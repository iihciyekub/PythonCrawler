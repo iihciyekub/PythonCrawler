{
 "cells": [
  {
   "cell_type": "markdown",
   "metadata": {},
   "source": [
    "#  ※ Python3 包模块函数方法"
   ]
  },
  {
   "cell_type": "markdown",
   "metadata": {},
   "source": [
    "## 4. 包模块函数方法\n",
    "### 4.2  函数方法作用域\n",
    "*本章节主要说明Python的函数方法作用域。*"
   ]
  },
  {
   "cell_type": "markdown",
   "metadata": {},
   "source": [
    "#### § 理解变量"
   ]
  },
  {
   "cell_type": "code",
   "execution_count": null,
   "metadata": {},
   "outputs": [],
   "source": [
    "a = 'abc'  #变量a指向字符串对象"
   ]
  },
  {
   "cell_type": "code",
   "execution_count": null,
   "metadata": {},
   "outputs": [],
   "source": [
    "a = ['a', 'b', 'c']  #变量a也可以指向列表对象"
   ]
  },
  {
   "cell_type": "markdown",
   "metadata": {},
   "source": [
    "*以上代码中，变量 a 是没有类型，它仅仅是一个对象的引用（一个指针）* "
   ]
  },
  {
   "cell_type": "markdown",
   "metadata": {},
   "source": [
    "---\n",
    "- 回顾一下,python中的number,string,tuple,这三个类型都是不可以变对象\n",
    "- list,dict,set都是可变对象"
   ]
  },
  {
   "cell_type": "code",
   "execution_count": null,
   "metadata": {},
   "outputs": [],
   "source": [
    "a = 1.0  #将float类型(不可变对象)数值1.0赋值给变量a\n",
    "b = a  #变量b与变量a相同\n",
    "b = 3  #将int类型数值3赋值给变量b\n",
    "print(a)  #此时思考 a变量是什么?? 答案貌似很简单当然还是1.0"
   ]
  },
  {
   "cell_type": "code",
   "execution_count": null,
   "metadata": {},
   "outputs": [],
   "source": [
    "a = [1, 2, 3, 4, 5]  #将list类型(可变类型).赋值给变量a\n",
    "b = a  #变量a赋值给变量b\n",
    "b[0] = 3  #将int类型数值3赋值给变量a\n",
    "print(a)  #此时再思考 a变量是什么??"
   ]
  },
  {
   "cell_type": "markdown",
   "metadata": {},
   "source": [
    "*上一行代码改变变量b的值,变量a指向的值也改变了,这就是变量仅表示指向对象的意思*\n",
    "\n",
    "*通常更准确的说法是,改变的不是b的值,而是改变变量b指向对象的值"
   ]
  },
  {
   "cell_type": "markdown",
   "metadata": {},
   "source": [
    "#### § 理解函数\n",
    "你可以定义一个由自己想要功能的函数，以下是简单的规则：\n",
    "\n",
    "- 函数代码块以 def 关键词开头，后接函数标识符名称和圆括号 ()。\n",
    "- 任何传入参数和自变量必须放在圆括号中间，圆括号之间可以用于定义参数。\n",
    "- 函数的第一行语句可以选择性地使用文档字符串—用于存放函数说明。\n",
    "- 函数内容以冒号起始，并且缩进。\n",
    "- return [表达式] 结束函数，选择性地返回一个值给调用方。不带表达式的return相当于返回 None。"
   ]
  },
  {
   "cell_type": "markdown",
   "metadata": {},
   "source": [
    "##### 参数\n",
    "以下是调用函数时可使用的正式参数类型：\n",
    "\n",
    "不带参数,必需参数,关键字参数,默认参数,不定长参数"
   ]
  },
  {
   "cell_type": "markdown",
   "metadata": {},
   "source": [
    "- 没有带参数_函数实例"
   ]
  },
  {
   "cell_type": "code",
   "execution_count": null,
   "metadata": {},
   "outputs": [],
   "source": [
    "def myprint():  #构造一个没有参数的函数,该函数没有返回值,\n",
    "    print('hello')\n",
    "    return\n",
    "\n",
    "\n",
    "a = myprint  #将方法赋值给变量a\n",
    "a()  #变量名称后带()表示调用方法"
   ]
  },
  {
   "cell_type": "markdown",
   "metadata": {},
   "source": [
    "- 带必需参数_函数实例"
   ]
  },
  {
   "cell_type": "code",
   "execution_count": null,
   "metadata": {},
   "outputs": [],
   "source": [
    "def mymax(x, y):  #实现输出最大值\n",
    "    return x if x >= y else y\n",
    "\n",
    "\n",
    "mymax(1, 100)"
   ]
  },
  {
   "cell_type": "code",
   "execution_count": null,
   "metadata": {},
   "outputs": [],
   "source": [
    "def mysort(x, y):  #实现排序的方法\n",
    "    if x <= y:\n",
    "        a, b = x, y\n",
    "    else:\n",
    "        a, b = y, x\n",
    "    return (a, b)\n",
    "\n",
    "\n",
    "mysort(4, 2)"
   ]
  },
  {
   "cell_type": "markdown",
   "metadata": {},
   "source": [
    "- 带关键字参数_函数实例\n",
    "\n",
    "  - 关键字参数和函数调用关系紧密，函数调用使用关键字参数来确定传入的参数值。\n",
    "  - 使用关键字参数允许函数调用时参数的顺序与声明时不一致，因为 Python 解释器能够用参数名匹配参数值。"
   ]
  },
  {
   "cell_type": "code",
   "execution_count": null,
   "metadata": {},
   "outputs": [],
   "source": [
    "def myprint(name, age):  #构造带有关键字参数的函数\n",
    "    print('我的名字%s,今年%d岁' % (name, age))\n",
    "    return\n",
    "\n",
    "\n",
    "a = myprint  #将方法赋值给变量a"
   ]
  },
  {
   "cell_type": "code",
   "execution_count": null,
   "metadata": {},
   "outputs": [],
   "source": [
    "a('python', 2)  #正常调用方法时,传入必需参数"
   ]
  },
  {
   "cell_type": "code",
   "execution_count": null,
   "metadata": {},
   "outputs": [],
   "source": [
    "a(age=2, name='python')  #可以无序传入带关键字的参数"
   ]
  },
  {
   "cell_type": "markdown",
   "metadata": {},
   "source": [
    "- 带不定长参数_函数实例\n",
    "*用在函数需要处理不定长度的参数时*"
   ]
  },
  {
   "cell_type": "code",
   "execution_count": null,
   "metadata": {},
   "outputs": [],
   "source": [
    "def mymaxs(*var):  #声明一个可以比较不限定数量并且能返回该最大值的函数\n",
    "    a = list(var)  #先转换为列表类型\n",
    "    a.sort()  #对列表进行排序\n",
    "    return a[-1]  #返回列表最后一个值\n",
    "\n",
    "\n",
    "mymaxs(1.0, 2, 8, 12335, 31, 3)"
   ]
  },
  {
   "cell_type": "code",
   "execution_count": null,
   "metadata": {},
   "outputs": [],
   "source": [
    "def mymaxs(**vardict):  #加了两个星号 ** 的参数会以字典的形式导入。\n",
    "    print(vardict)\n",
    "\n",
    "\n",
    "mymaxs(x=3, dfdf='ui')"
   ]
  },
  {
   "cell_type": "code",
   "execution_count": null,
   "metadata": {},
   "outputs": [],
   "source": [
    "def f(x, *, y, z):  #声明函数时,带+号后面的参数必须带关键字\n",
    "    return x * y + z\n",
    "\n",
    "\n",
    "f(1, y=2, z=5)"
   ]
  },
  {
   "cell_type": "markdown",
   "metadata": {},
   "source": [
    "- 匿名函数 (lambda)\n",
    "  - ambda 只是一个表达式，函数体比 def 简单很多。\n",
    "  - lambda的主体是一个表达式，而不是一个代码块。仅仅能在lambda表达式中封装有限的逻辑进去。"
   ]
  },
  {
   "cell_type": "code",
   "execution_count": null,
   "metadata": {},
   "outputs": [],
   "source": [
    "lambda x: x + 1  #关键字lambda后面跟参数,冒号后面跟表达式,"
   ]
  },
  {
   "cell_type": "code",
   "execution_count": null,
   "metadata": {},
   "outputs": [],
   "source": [
    "mysum = lambda x, y, z: x + y + z  #将lambda函数返回值赋值给变量sum\n",
    "mysum(10, 2, 5)"
   ]
  },
  {
   "cell_type": "code",
   "execution_count": null,
   "metadata": {},
   "outputs": [],
   "source": [
    "mymax = lambda *v: list(v)  # 创建一个返回最大数的lambda表达式\n",
    "a = mymax(10, 2, 5, 235, 6, 5, 4, 8)\n",
    "a.sort()\n",
    "print(a[-1])"
   ]
  },
  {
   "cell_type": "markdown",
   "metadata": {},
   "source": [
    "匿名函数的应用"
   ]
  },
  {
   "cell_type": "code",
   "execution_count": null,
   "metadata": {},
   "outputs": [],
   "source": [
    "a = map(lambda x: x * x, [1, 1, 2, 3])  #lambda与map函数的应用 map(函数,列表)\n",
    "print(list(a))"
   ]
  },
  {
   "cell_type": "code",
   "execution_count": null,
   "metadata": {},
   "outputs": [],
   "source": [
    "a = [x * x for x in [1, 1, 2, 3]]  # 等效于上一行语句\n",
    "print(list(a))"
   ]
  },
  {
   "cell_type": "code",
   "execution_count": null,
   "metadata": {},
   "outputs": [],
   "source": [
    "a = filter(lambda x: x % 3 == 0, [1, 2, 3])  #lambda与filter函数的应用 filter(函数,列表)\n",
    "print(list(a))"
   ]
  },
  {
   "cell_type": "code",
   "execution_count": null,
   "metadata": {},
   "outputs": [],
   "source": [
    "a = [x for x in [1, 2, 3] if x % 3 == 0]  # 等效于上一行语句\n",
    "print(a)"
   ]
  },
  {
   "cell_type": "markdown",
   "metadata": {},
   "source": [
    "#### § 理解作用域\n",
    "- 定义在函数内部的变量拥有一个局部作用域，定义在函数外的拥有全局作用域。\n",
    "- 局部变量只能在其被声明的函数内部访问，而全局变量可以在整个程序范围内访问。\n",
    "- 调用函数时，所有在函数内声明的变量名称都将被加入到作用域中。"
   ]
  },
  {
   "cell_type": "code",
   "execution_count": 4,
   "metadata": {},
   "outputs": [
    {
     "name": "stdout",
     "output_type": "stream",
     "text": [
      "调用外部变量x = 41\n"
     ]
    }
   ],
   "source": [
    "x = 41  # 全局变量x\n",
    "\n",
    "\n",
    "def add():\n",
    "    print(\"调用外部变量x =\", x)\n",
    "\n",
    "\n",
    "add()"
   ]
  },
  {
   "cell_type": "code",
   "execution_count": null,
   "metadata": {},
   "outputs": [],
   "source": [
    "x = 0  # 全局变量x\n",
    "\n",
    "\n",
    "def add(a, b):\n",
    "    x = a + b  # 函数内也有X,但与全局变量X不一样,\n",
    "    print(\"函数内是局部变量x =\", x)\n",
    "    return x\n",
    "\n",
    "\n",
    "add(10, 20)\n",
    "print(\"函数外是全局变量x =\", x)"
   ]
  },
  {
   "cell_type": "markdown",
   "metadata": {},
   "source": [
    "如果想在函数内调用全局变量 则需要加关键字 global"
   ]
  },
  {
   "cell_type": "code",
   "execution_count": null,
   "metadata": {},
   "outputs": [],
   "source": [
    "x = 0  # 全局变量x\n",
    "\n",
    "\n",
    "def add(a, b):\n",
    "    global x  #声明调用全局变量\n",
    "    x = a + b  # 函数内也有X,但与全局变量X不一样,\n",
    "    print(\"函数内是局部变量x =\", x)\n",
    "    return x\n",
    "\n",
    "\n",
    "add(10, 20)\n",
    "print(\"函数外是全局变量x =\", x)"
   ]
  },
  {
   "cell_type": "markdown",
   "metadata": {},
   "source": [
    "如果要修改嵌套作用域（enclosing 作用域，外层非全局作用域）中的变量则需要 nonlocal 关键字了，如下实例："
   ]
  },
  {
   "cell_type": "code",
   "execution_count": null,
   "metadata": {},
   "outputs": [],
   "source": [
    "x = 0  # 全局变量x\n",
    "\n",
    "\n",
    "def outer():\n",
    "    x = 10  # 函数outer()的局部变量x\n",
    "\n",
    "    def inner():\n",
    "        x = 100  # 函数inner()的局部变量x\n",
    "        print('这调用的是函数inner()的局部变量x=', x)\n",
    "\n",
    "    inner()  # 函数体outer调用自建函数inner()\n",
    "    print('这调用的是函数inner()的局部变量x=', x)\n",
    "\n",
    "\n",
    "outer()\n",
    "print('这调用的是全局变量x=', x)"
   ]
  },
  {
   "cell_type": "code",
   "execution_count": null,
   "metadata": {},
   "outputs": [],
   "source": [
    "x = 0  # 全局变量x\n",
    "\n",
    "\n",
    "def outer():\n",
    "    x = 10  # 函数outer()的局部变量x\n",
    "\n",
    "    def inner():\n",
    "        nonlocal x  # nonlocal关键字声明调用是函数outer()的局变量x\n",
    "        x = 100  # 函数inner()的局部变量x\n",
    "        print('这调用的是函数inner()的局部变量x=', x)\n",
    "\n",
    "    inner()  # 函数体outer调用自建函数inner()\n",
    "    print('这调用的是函数inner()的局部变量x=', x)\n",
    "\n",
    "\n",
    "outer()\n",
    "print('这调用的是全局变量x=', x)"
   ]
  }
 ],
 "metadata": {
  "kernelspec": {
   "display_name": "Python 3",
   "language": "python",
   "name": "python3"
  },
  "language_info": {
   "codemirror_mode": {
    "name": "ipython",
    "version": 3
   },
   "file_extension": ".py",
   "mimetype": "text/x-python",
   "name": "python",
   "nbconvert_exporter": "python",
   "pygments_lexer": "ipython3",
   "version": "3.6.5"
  },
  "toc": {
   "base_numbering": 1,
   "nav_menu": {},
   "number_sections": true,
   "sideBar": true,
   "skip_h1_title": false,
   "title_cell": "Table of Contents",
   "title_sidebar": "Contents",
   "toc_cell": false,
   "toc_position": {},
   "toc_section_display": true,
   "toc_window_display": false
  },
  "widgets": {
   "application/vnd.jupyter.widget-state+json": {
    "state": {},
    "version_major": 2,
    "version_minor": 0
   }
  }
 },
 "nbformat": 4,
 "nbformat_minor": 2
}
