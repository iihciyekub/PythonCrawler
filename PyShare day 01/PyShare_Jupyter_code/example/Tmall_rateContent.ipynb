{
 "cells": [
  {
   "cell_type": "code",
   "execution_count": 10,
   "metadata": {
    "code_folding": []
   },
   "outputs": [],
   "source": [
    "import re\n",
    "import json\n",
    "import time\n",
    "import requests\n",
    "import pandas as pd\n",
    "from pyquery import PyQuery as pq\n",
    "headers = {\n",
    "    \"user-agent\":\n",
    "    \"Mozilla/5.0 (Windows NT 10.0; Win64; x64) AppleWebKit/537.36 (KHTML, like Gecko) Chrome/69.0.3497.81 Safari/537.36\"\n",
    "}\n",
    "\n",
    "data = {\n",
    "    '评论': [],\n",
    "    '交易时间': [],\n",
    "    '评论时间': [],\n",
    "    '交易评论时间差(分钟)': [],\n",
    "    '会员': [],\n",
    "    '名字': []\n",
    "}\n",
    "\n",
    "\n",
    "#时间戳转换为指定格式的日期\n",
    "def getime(timeStamp):\n",
    "    timeArray = time.localtime(timeStamp)\n",
    "    otherStyleTime = time.strftime(\"%Y-%m-%d %H:%M:%S\", timeArray)\n",
    "    return otherStyleTime\n",
    "\n",
    "\n",
    "#通过url转换得到评论JSON文件的Request URL\n",
    "def get_base_url(url):\n",
    "    _html = requests.get(url, headers=headers)\n",
    "    _doc = pq(_html.text)\n",
    "    _item = _doc('#LineZing')\n",
    "    _shopid = int(_item.attr(\"shopid\"))\n",
    "    _itemid = int(_item.attr(\"itemid\"))\n",
    "    base_url = f\"https://rate.tmall.com/list_detail_rate.htm?itemId={_itemid}&sellerId={_shopid}&order=3&currentPage=\"\n",
    "    return base_url\n",
    "\n",
    "\n",
    "#使用评论JSON文件的Request URL提取JSON文件\n",
    "def ratejson_get(url):\n",
    "    html = requests.get(url, headers=headers)\n",
    "    m = re.search(\"jsonp1025.*\\(({.*)\\)\", html.text)\n",
    "    ratejon = json.loads(m.group(1))\n",
    "    return ratejon\n",
    "\n",
    "\n",
    "#解析JSON文件\n",
    "def rateJson_parse(ratejon):\n",
    "    #评论区\n",
    "    temp_rate = ratejon[\"rateDetail\"][\"rateList\"]\n",
    "    for i in range(len(temp_rate)):\n",
    "        data['评论'].append(temp_rate[i][\"rateContent\"])\n",
    "        data['名字'].append(temp_rate[i][\"displayUserNick\"])\n",
    "\n",
    "        if temp_rate[i][\"goldUser\"] == True:\n",
    "            data['会员'].append(\"Yes\")\n",
    "        else:\n",
    "            data['会员'].append(\"No\")\n",
    "\n",
    "        tradeEndTime = temp_rate[i][\"tradeEndTime\"][\"time\"]  # 获取评论时间\n",
    "        createTime = temp_rate[i][\"gmtCreateTime\"][\"time\"]  # 获取交易时间\n",
    "        if tradeEndTime != None or createTime != None:\n",
    "            tradeEndTime = int(tradeEndTime) // 1000\n",
    "            data['交易时间'].append(getime(tradeEndTime))\n",
    "            createTime = int(createTime) // 1000\n",
    "            data['评论时间'].append(getime(createTime))\n",
    "            dt = (createTime - tradeEndTime) / 60\n",
    "            data['交易评论时间差(分钟)'].append(dt)\n",
    "        else:\n",
    "            data['交易时间'].append(\"NaN\")\n",
    "            data['评论时间'].append(\"NaN\")\n",
    "            data['交易评论时间差(分钟)'].append(\"NaN\")\n",
    "\n",
    "\n",
    "#主函数\n",
    "def main(url):\n",
    "    base_url = get_base_url(url)\n",
    "    ratejon = ratejson_get(base_url + \"1\")\n",
    "    rateNum = ratejon[\"rateDetail\"][\"rateCount\"][\"total\"]\n",
    "    picNum = ratejon[\"rateDetail\"][\"rateCount\"][\"picNum\"]\n",
    "    usedNum = ratejon[\"rateDetail\"][\"rateCount\"][\"used\"]\n",
    "    print(\"总共有%d条评论\" % rateNum)\n",
    "    print(\"其中带图片评论的有%d条\"%picNum)\n",
    "    print(\"其中带追加评论的有%d条\" % usedNum)\n",
    "\n",
    "    try:\n",
    "        for i in range(1, 99):\n",
    "            ratejon = ratejson_get(base_url + f\"{i}\")\n",
    "            rateJson_parse(ratejon)\n",
    "    except:\n",
    "        print(\"End\")"
   ]
  },
  {
   "cell_type": "markdown",
   "metadata": {},
   "source": [
    "- 在此输入网址"
   ]
  },
  {
   "cell_type": "code",
   "execution_count": 17,
   "metadata": {},
   "outputs": [],
   "source": [
    "url = r\"https://rate.tmall.com/list_detail_rate.htm?itemId=569261104313&spuId=0&sellerId=1879194783&order=3&currentPage=1&append=0&content=1&tagId=&posi=&picture=&groupId=&ua=098%23E1hvmQvnvPOvUvCkvvvvvjiPRssZAjnvRLMWgj3mPmPyAjYPn2Lv0jYWRFSyzjYURphvCvvvvvmCvpvZz%2FN5cR34zYMNZYsG7zSN3r%2Fdzb0rvpvEvvkBvi0avbc1dphvmpvWPUE3OpvU6gwCvvpvCvvvRphvCvvvvvvPvpvhvv2MMQhCvvOvCvvvphvEvpCW2HMJvvw%2FgWswsEp7bpPClw03HE3iBf7gQa7tnV34ibmxfBAKNx2h%2BWe9eBXAcixrgj7ZHkx%2Fgjc6rBwgbl%2F9ibmxdByaUUxrD76wddyCvm9vvvvvphvvvvvv9cCvpv1mvvv24ZCv2H%2BvvvniphvW7Qvvv0Dvpv1fuphvmvvv9bfuU5RakphvC99vvOCzp8wCvvpvvUmm&needFold=0&_ksTS=1570528382192_1024&callback=jsonp1025\"\n"
   ]
  },
  {
   "cell_type": "markdown",
   "metadata": {},
   "source": [
    "- 开始分析网页,并获取数据"
   ]
  },
  {
   "cell_type": "code",
   "execution_count": 8,
   "metadata": {
    "scrolled": true
   },
   "outputs": [
    {
     "ename": "TypeError",
     "evalue": "int() argument must be a string, a bytes-like object or a number, not 'NoneType'",
     "output_type": "error",
     "traceback": [
      "\u001b[1;31m---------------------------------------------------------------------------\u001b[0m",
      "\u001b[1;31mTypeError\u001b[0m                                 Traceback (most recent call last)",
      "\u001b[1;32m<ipython-input-8-a9722b1fa788>\u001b[0m in \u001b[0;36m<module>\u001b[1;34m\u001b[0m\n\u001b[1;32m----> 1\u001b[1;33m \u001b[0mmain\u001b[0m\u001b[1;33m(\u001b[0m\u001b[0murl\u001b[0m\u001b[1;33m)\u001b[0m\u001b[1;33m\u001b[0m\u001b[1;33m\u001b[0m\u001b[0m\n\u001b[0m\u001b[0;32m      2\u001b[0m \u001b[0mdf\u001b[0m \u001b[1;33m=\u001b[0m \u001b[0mpd\u001b[0m\u001b[1;33m.\u001b[0m\u001b[0mDataFrame\u001b[0m\u001b[1;33m(\u001b[0m\u001b[0mdata\u001b[0m\u001b[1;33m,\u001b[0m \u001b[0mcolumns\u001b[0m\u001b[1;33m=\u001b[0m\u001b[1;33m[\u001b[0m\u001b[1;34m'交易时间'\u001b[0m\u001b[1;33m,\u001b[0m \u001b[1;34m'评论时间'\u001b[0m\u001b[1;33m,\u001b[0m \u001b[1;34m'交易评论时间差(分钟)'\u001b[0m\u001b[1;33m,\u001b[0m \u001b[1;34m'会员'\u001b[0m\u001b[1;33m,\u001b[0m \u001b[1;34m'名字'\u001b[0m\u001b[1;33m]\u001b[0m\u001b[1;33m)\u001b[0m\u001b[1;33m\u001b[0m\u001b[1;33m\u001b[0m\u001b[0m\n\u001b[0;32m      3\u001b[0m \u001b[0mpd\u001b[0m\u001b[1;33m.\u001b[0m\u001b[0mDataFrame\u001b[0m\u001b[1;33m(\u001b[0m\u001b[0mdata\u001b[0m\u001b[1;33m,\u001b[0m \u001b[0mcolumns\u001b[0m\u001b[1;33m=\u001b[0m\u001b[1;33m[\u001b[0m\u001b[1;34m'交易时间'\u001b[0m\u001b[1;33m,\u001b[0m \u001b[1;34m'评论时间'\u001b[0m\u001b[1;33m,\u001b[0m \u001b[1;34m'交易评论时间差(分钟)'\u001b[0m\u001b[1;33m,\u001b[0m \u001b[1;34m'会员'\u001b[0m\u001b[1;33m,\u001b[0m \u001b[1;34m'名字'\u001b[0m\u001b[1;33m]\u001b[0m\u001b[1;33m)\u001b[0m\u001b[1;33m\u001b[0m\u001b[1;33m\u001b[0m\u001b[0m\n",
      "\u001b[1;32m<ipython-input-1-ae4f1aa72e1d>\u001b[0m in \u001b[0;36mmain\u001b[1;34m(url)\u001b[0m\n\u001b[0;32m     76\u001b[0m \u001b[1;31m#主函数\u001b[0m\u001b[1;33m\u001b[0m\u001b[1;33m\u001b[0m\u001b[1;33m\u001b[0m\u001b[0m\n\u001b[0;32m     77\u001b[0m \u001b[1;32mdef\u001b[0m \u001b[0mmain\u001b[0m\u001b[1;33m(\u001b[0m\u001b[0murl\u001b[0m\u001b[1;33m)\u001b[0m\u001b[1;33m:\u001b[0m\u001b[1;33m\u001b[0m\u001b[1;33m\u001b[0m\u001b[0m\n\u001b[1;32m---> 78\u001b[1;33m     \u001b[0mbase_url\u001b[0m \u001b[1;33m=\u001b[0m \u001b[0mget_base_url\u001b[0m\u001b[1;33m(\u001b[0m\u001b[0murl\u001b[0m\u001b[1;33m)\u001b[0m\u001b[1;33m\u001b[0m\u001b[1;33m\u001b[0m\u001b[0m\n\u001b[0m\u001b[0;32m     79\u001b[0m     \u001b[0mratejon\u001b[0m \u001b[1;33m=\u001b[0m \u001b[0mratejson_get\u001b[0m\u001b[1;33m(\u001b[0m\u001b[0mbase_url\u001b[0m \u001b[1;33m+\u001b[0m \u001b[1;34m\"1\"\u001b[0m\u001b[1;33m)\u001b[0m\u001b[1;33m\u001b[0m\u001b[1;33m\u001b[0m\u001b[0m\n\u001b[0;32m     80\u001b[0m     \u001b[0mrateNum\u001b[0m \u001b[1;33m=\u001b[0m \u001b[0mratejon\u001b[0m\u001b[1;33m[\u001b[0m\u001b[1;34m\"rateDetail\"\u001b[0m\u001b[1;33m]\u001b[0m\u001b[1;33m[\u001b[0m\u001b[1;34m\"rateCount\"\u001b[0m\u001b[1;33m]\u001b[0m\u001b[1;33m[\u001b[0m\u001b[1;34m\"total\"\u001b[0m\u001b[1;33m]\u001b[0m\u001b[1;33m\u001b[0m\u001b[1;33m\u001b[0m\u001b[0m\n",
      "\u001b[1;32m<ipython-input-1-ae4f1aa72e1d>\u001b[0m in \u001b[0;36mget_base_url\u001b[1;34m(url)\u001b[0m\n\u001b[0;32m     32\u001b[0m     \u001b[0m_doc\u001b[0m \u001b[1;33m=\u001b[0m \u001b[0mpq\u001b[0m\u001b[1;33m(\u001b[0m\u001b[0m_html\u001b[0m\u001b[1;33m.\u001b[0m\u001b[0mtext\u001b[0m\u001b[1;33m)\u001b[0m\u001b[1;33m\u001b[0m\u001b[1;33m\u001b[0m\u001b[0m\n\u001b[0;32m     33\u001b[0m     \u001b[0m_item\u001b[0m \u001b[1;33m=\u001b[0m \u001b[0m_doc\u001b[0m\u001b[1;33m(\u001b[0m\u001b[1;34m'#LineZing'\u001b[0m\u001b[1;33m)\u001b[0m\u001b[1;33m\u001b[0m\u001b[1;33m\u001b[0m\u001b[0m\n\u001b[1;32m---> 34\u001b[1;33m     \u001b[0m_shopid\u001b[0m \u001b[1;33m=\u001b[0m \u001b[0mint\u001b[0m\u001b[1;33m(\u001b[0m\u001b[0m_item\u001b[0m\u001b[1;33m.\u001b[0m\u001b[0mattr\u001b[0m\u001b[1;33m(\u001b[0m\u001b[1;34m\"shopid\"\u001b[0m\u001b[1;33m)\u001b[0m\u001b[1;33m)\u001b[0m\u001b[1;33m\u001b[0m\u001b[1;33m\u001b[0m\u001b[0m\n\u001b[0m\u001b[0;32m     35\u001b[0m     \u001b[0m_itemid\u001b[0m \u001b[1;33m=\u001b[0m \u001b[0mint\u001b[0m\u001b[1;33m(\u001b[0m\u001b[0m_item\u001b[0m\u001b[1;33m.\u001b[0m\u001b[0mattr\u001b[0m\u001b[1;33m(\u001b[0m\u001b[1;34m\"itemid\"\u001b[0m\u001b[1;33m)\u001b[0m\u001b[1;33m)\u001b[0m\u001b[1;33m\u001b[0m\u001b[1;33m\u001b[0m\u001b[0m\n\u001b[0;32m     36\u001b[0m     \u001b[0mbase_url\u001b[0m \u001b[1;33m=\u001b[0m \u001b[1;34mf\"https://rate.tmall.com/list_detail_rate.htm?itemId={_itemid}&sellerId={_shopid}&order=3&currentPage=\"\u001b[0m\u001b[1;33m\u001b[0m\u001b[1;33m\u001b[0m\u001b[0m\n",
      "\u001b[1;31mTypeError\u001b[0m: int() argument must be a string, a bytes-like object or a number, not 'NoneType'"
     ]
    }
   ],
   "source": [
    "main(url)\n",
    "df = pd.DataFrame(data, columns=['交易时间', '评论时间', '交易评论时间差(分钟)', '会员', '名字'])\n",
    "pd.DataFrame(data, columns=['交易时间', '评论时间', '交易评论时间差(分钟)', '会员', '名字'])"
   ]
  },
  {
   "cell_type": "code",
   "execution_count": 60,
   "metadata": {},
   "outputs": [],
   "source": [
    "df.to_csv('Tmall.csv',encoding=\"utf-8-sig\")"
   ]
  },
  {
   "cell_type": "code",
   "execution_count": 18,
   "metadata": {},
   "outputs": [],
   "source": [
    "a=requests.get(url).text"
   ]
  },
  {
   "cell_type": "code",
   "execution_count": 19,
   "metadata": {},
   "outputs": [
    {
     "data": {
      "text/plain": [
       "'\\r\\n<!DOCTYPE html>\\n<html>\\n<head>\\n\\t<link rel=\"stylesheet\" href=\"//g.alicdn.com/??kg/global-util/1.0.6/index-min.css,kg/tb-nav/2.4.1/index-min.css\">\\n\\t<script src=\"//g.alicdn.com/??kissy/k/1.4.16/seed-min.js,kg/kmd-adapter/0.1.5/index.js,kg/kmd-adapter/0.1.5/util.js,kg/global-util/1.0.7/index-min.js,tb/tracker/4.3.18/index.js,kg/tb-nav/2.5.4/index-min.js\"></script>\\n<script>KISSY.config({modules:{\\'flash\\':{alias:[\\'gallery/flash/1.0/\\']}}});KISSY.use(\\'kg/global-util/1.0.7/\\');KISSY.config({modules: {\\'kg/tb-nav\\':{alias:\\'kg/tb-nav/2.5.4/\\',requires:[\\'kg/global-util/1.0.7/\\']}}});KISSY.ready(function(){KISSY.use(\\'kg/tb-nav\\')});</script>\\n\\t\\n \\n\\n\\t<title>淘宝网 - 淘！我喜欢</title>\\n<meta charset=\"gbk\" />\\n<meta http-equiv=\"Cache-Control\" content=\"no-cache\" />\\n<meta http-equiv=\"pragma\" content=\"no-cache\" />\\n<meta http-equiv=\"expires\" content=\"Thu, 01 Jan 1970 00:00:01 GMT\" />\\n<meta name=\"spm-id\" content=\"a1z0b\" /><link rel=\"shortcut icon\" type=\"image/x-icon\" href=\"//img.alicdn.com/favicon.ico\" />\\n<style>\\n#page {\\n\\twidth: 950px;\\n\\tmin-height: 400px;\\n}\\n.site-nav .site-nav-bd {\\n    width: 1190px !important;\\n}\\n</style>\\n<script>window.g_config = { appId: 16 };</script>\\n\\t<!-- S GLOBAL CSS -->\\r\\n<link rel=\"stylesheet\" href=\"//g.alicdn.com/tb/global/3.5.34/global-min.css\">\\r\\n<!-- S GLOBAL CSS -->\\n\\t \\t\\t<div class=\"site-nav\" id=\"J_SiteNav\" data-component-config=\\'{ \"cart\": \"0.0.6\",\"message\": \"3.4.6\",\"umpp\": \"1.5.4\",\"mini-login\": \"6.3.8\",\"tb-ie-updater\": \"0.0.4\",\"tbar\": \"2.1.0\",\"tb-footer\": \"1.1.7\",\"sidebar\": \"1.0.10\" }\\' data-tbar=\\'{ \"show\":true, \"miniCart\": \"2.12.2\",\"paramsBlackList\": \"_wt,seeyouagain1722\",\"my_activity\": \"https:&#x2F;&#x2F;market.m.taobao.com&#x2F;apps&#x2F;abs&#x2F;5&#x2F;38&#x2F;my12?psId=58386&amp;pcPsId=58388\", \"venueUrl\": \"https:&#x2F;&#x2F;1212.taobao.com?wh_weex=true&amp;data_prefetch=true&amp;wx_navbar_transparent=true\", \"helpUrl\": \"https://consumerservice.taobao.com/online-help\", \"validTime\":{\"startTime\": 1512057599, \"endTime\": 1513094400}, \"style\": {\"name\": \"171212\", \"path\": \"kg/sidebar-style-171212/0.0.5/\" }, \"page\":[],\"blackList\":[],\"navDataId\":{\"tceSid\":1182567,\"tceVid\":0},\"pluginVersion\":{ \"cart\":\"0.2.0\",\"history\":\"0.2.0\",\"redpaper\":\"0.0.8\",\"gotop\":\"0.2.5\",\"help\":\"0.2.1\",\"ww\":\"0.0.3\",\"pagenav\":\"0.0.27\",\"myasset\":\"0.0.9\",\"my1212\":\"0.0.1\",\"my1111\":\"0.2.2\"}}\\'>\\n    <div class=\"site-nav-bd\" id=\"J_SiteNavBd\">\\n        \\n        <ul class=\"site-nav-bd-l\" id=\"J_SiteNavBdL\" data-spm-ab=\"1\">\\n            \\n            \\n            <li class=\"site-nav-menu site-nav-login\" id=\"J_SiteNavLogin\" data-name=\"login\" data-spm=\"754894437\">\\n                <div class=\"site-nav-menu-hd\">\\n                    <a href=\"//login.taobao.com/member/login.jhtml?f=top&redirectURL=https%3A%2F%2Fwww.taobao.com%2F\" target=\"_top\">\\n                        \\n                        <span>亲，请登录</span>\\n                    </a>\\n                    \\n                </div>\\n                \\n            </li>\\n            \\n            \\n            \\n            \\n            <li id=\"J_Tmsg\" class=\"site-nav-tmsg tmsg site-nav-multi-menu J_MultiMenu\" data-name=\"tmsg\" data-spm=\"1997563201\">\\n                <div class=\"J_Menu site-nav-menu\">\\n                    <div class=\"site-nav-menu-hd J_Tmsg_Basic tmsg_basic\">\\n                        <span class=\"J_Tmsg_Logo tmsg_logo_area\" style=\"zoom:1;\">\\n                            <span class=\"J_Tmsg_Logo_Loading tmsg_logo_loading\"></span>\\n                            <span class=\"J_Tmsg_Logo_Icon tmsg_logo_icon site-nav-icon\" style=\"display:none\">&#xe602;</span>\\n                            <span class=\"J_Tmsg_Logo_Text tmsg_logo_text\">消息</span>\\n                            <span class=\"J_Tmsg_Logo_Unread tmsg_logo_unread\"></span>\\n                        </span>\\n                        \\n                        <span class=\"site-nav-arrow\"><span class=\"site-nav-icon\">&#xe605;</span></span>\\n                        \\n                    </div>\\n\\n                    <div class=\"site-nav-menu-bd\">\\n                        <div class=\"J_Tmsg_Panel_Apps tmsg_panel_apps\"></div>\\n                    </div>\\n                </div>\\n                <div class=\"J_Tmsg_Panels tmsg_panels\">\\n                    <div class=\"J_Tmsg_Panel_Detail tmsg_panel_detail\"></div>\\n                    <div class=\"J_Tmsg_Panel_history tmsg_panel_history\"></div>\\n                    <div class=\"J_Tmsg_Panel_Strong tmsg_panel_strong\"></div>\\n                    <div class=\"J_Tmsg_Panel_Setting tmsg_panel_setting\"></div>\\n                </div>\\n            </li>\\n            \\n            \\n            \\n            \\n            <li class=\"site-nav-menu site-nav-mobile\" id=\"J_SiteNavMobile\" data-name=\"mobile\" data-spm=\"1997563273\">\\n                <div class=\"site-nav-menu-hd\">\\n                    <a href=\"//www.taobao.com/m\" target=\"_top\">\\n                        \\n                        <span>手机逛淘宝</span>\\n                    </a>\\n                    \\n                </div>\\n                \\n            </li>\\n            \\n            \\n            \\n            \\n            <li class=\"site-nav-menu site-nav-weekend site-nav-multi-menu J_MultiMenu\" id=\"J_SiteNavWeekend\" data-name=\"weekend\" data-spm=\"201711111212\">\\n            </li>\\n            \\n            \\n            \\n        </ul>\\n        \\n        <ul class=\"site-nav-bd-r\" id=\"J_SiteNavBdR\" data-spm-ab=\"2\">\\n            \\n            \\n            <li class=\"site-nav-menu site-nav-home\" id=\"J_SiteNavHome\" data-name=\"home\" data-spm=\"1581860521\">\\n                <div class=\"site-nav-menu-hd\">\\n                    <a href=\"//www.taobao.com/\" target=\"_top\">\\n                        \\n                        <span>淘宝网首页</span>\\n                    </a>\\n                    \\n                </div>\\n                \\n            </li>\\n            \\n            \\n            \\n            \\n            <li class=\"site-nav-menu site-nav-mytaobao site-nav-multi-menu J_MultiMenu\" id=\"J_SiteNavMytaobao\" data-name=\"mytaobao\" data-spm=\"1997525045\">\\n                <div class=\"site-nav-menu-hd\">\\n                    <a href=\"//i.taobao.com/my_taobao.htm\" target=\"_top\">\\n                        \\n                        <span>我的淘宝</span>\\n                    </a>\\n                    \\n                    <span class=\"site-nav-arrow\"><span class=\"site-nav-icon\">&#xe605;</span></span>\\n                    \\n                </div>\\n                \\n                <div class=\"site-nav-menu-bd site-nav-menu-list\">\\n                    <div class=\"site-nav-menu-bd-panel menu-bd-panel\">\\n                    \\n                            <a href=\"//trade.taobao.com/trade/itemlist/list_bought_items.htm\" target=\"_top\">已买到的宝贝</a>\\n                    \\n                            <a href=\"//www.taobao.com/markets/footmark/tbfoot\" target=\"_top\">我的足迹</a>\\n                    \\n                    </div>\\n                </div>\\n                \\n            </li>\\n            \\n            \\n            \\n            \\n                <li class=\"site-nav-menu site-nav-cart site-nav-menu-empty site-nav-multi-menu J_MultiMenu\" id=\"J_MiniCart\" data-name=\"cart\" data-spm=\"1997525049\">\\n                    <div class=\"site-nav-menu-hd\">\\n                        <a href=\"//cart.taobao.com/cart.htm?from=mini&ad_id=&am_id=&cm_id=&pm_id=1501036000a02c5c3739\" target=\"_top\">\\n                            <span class=\"site-nav-icon site-nav-icon-highlight\">&#xe603;</span>\\n                            <span>购物车</span>\\n                            <strong class=\"h\" id=\"J_MiniCartNum\"></strong>\\n                        </a>\\n                        \\n                        <span class=\"site-nav-arrow\"><span class=\"site-nav-icon\">&#xe605;</span></span>\\n                        \\n                    </div>\\n                    <div class=\"site-nav-menu-bd\">\\n                        <div class=\"site-nav-menu-bd-panel menu-bd-panel\">\\n                        </div>\\n                    </div>\\n                </li>\\n            \\n            \\n            \\n            \\n            <li class=\"site-nav-menu site-nav-favor site-nav-multi-menu J_MultiMenu\" id=\"J_SiteNavFavor\" data-name=\"favor\" data-spm=\"1997525053\">\\n                <div class=\"site-nav-menu-hd\">\\n                    <a href=\"//shoucang.taobao.com/item_collect.htm\" target=\"_top\">\\n                        <span class=\"site-nav-icon\">&#xe604;</span>\\n                        <span>收藏夹</span>\\n                    </a>\\n                    \\n                    <span class=\"site-nav-arrow\"><span class=\"site-nav-icon\">&#xe605;</span></span>\\n                    \\n                </div>\\n                \\n                <div class=\"site-nav-menu-bd site-nav-menu-list\">\\n                    <div class=\"site-nav-menu-bd-panel menu-bd-panel\">\\n                    \\n                            <a href=\"//shoucang.taobao.com/item_collect.htm\" target=\"_top\">收藏的宝贝</a>\\n                    \\n                            <a href=\"//shoucang.taobao.com/shop_collect_list.htm\" target=\"_top\">收藏的店铺</a>\\n                    \\n                    </div>\\n                </div>\\n                \\n            </li>\\n            \\n            \\n            \\n            \\n            <li class=\"site-nav-menu site-nav-catalog\" id=\"J_SiteNavCatalog\" data-name=\"catalog\" data-spm=\"1997563209\">\\n                <div class=\"site-nav-menu-hd\">\\n                    <a href=\"//www.taobao.com/tbhome/page/market-list\" target=\"_top\">\\n                        \\n                        <span>商品分类</span>\\n                    </a>\\n                    \\n                </div>\\n                \\n            </li>\\n            \\n            \\n            <li class=\"site-nav-pipe\">|</li>\\n            \\n            \\n            \\n            <li class=\"site-nav-menu site-nav-seller site-nav-multi-menu J_MultiMenu\" id=\"J_SiteNavSeller\" data-name=\"seller\" data-spm=\"1997525073\">\\n                <div class=\"site-nav-menu-hd\">\\n                    <a href=\"//mai.taobao.com/seller_admin.htm\" target=\"_top\">\\n                        \\n                        <span>千牛卖家中心</span>\\n                    </a>\\n                    \\n                    <span class=\"site-nav-arrow\"><span class=\"site-nav-icon\">&#xe605;</span></span>\\n                    \\n                </div>\\n                \\n                <div class=\"site-nav-menu-bd site-nav-menu-list\">\\n                    <div class=\"site-nav-menu-bd-panel menu-bd-panel\">\\n                    \\n                            <a href=\"//mai.taobao.com/seller_admin.htm\" target=\"_top\">免费开店</a>\\n                    \\n                            <a href=\"//trade.taobao.com/trade/itemlist/list_sold_items.htm\" target=\"_top\">已卖出的宝贝</a>\\n                    \\n                            <a href=\"//sell.taobao.com/auction/goods/goods_on_sale.htm\" target=\"_top\">出售中的宝贝</a>\\n                    \\n                            <a href=\"//fuwu.taobao.com/?tracelog=tbdd\" target=\"_top\">卖家服务市场</a>\\n                    \\n                            <a href=\"//daxue.taobao.com/\" target=\"_top\">卖家培训中心</a>\\n                    \\n                            <a href=\"//healthcenter.taobao.com/home/health_home.htm\" target=\"_top\">体检中心</a>\\n                    \\n                            <a href=\"//infob.taobao.com/help\" target=\"_top\">问商友</a>\\n                    \\n                    </div>\\n                </div>\\n                \\n            </li>\\n            \\n            \\n            \\n            \\n            <li class=\"site-nav-menu site-nav-service site-nav-multi-menu J_MultiMenu\" id=\"J_SiteNavService\" data-name=\"service\" data-spm=\"754895749\">\\n                <div class=\"site-nav-menu-hd\">\\n                    <a href=\"https://consumerservice.taobao.com\" target=\"_top\">\\n                        \\n                        <span>联系客服</span>\\n                    </a>\\n                    \\n                    <span class=\"site-nav-arrow\"><span class=\"site-nav-icon\">&#xe605;</span></span>\\n                    \\n                </div>\\n                \\n                <div class=\"site-nav-menu-bd site-nav-menu-list\">\\n                    <div class=\"site-nav-menu-bd-panel menu-bd-panel\">\\n                    \\n                            <a href=\"https://consumerservice.taobao.com/online-help\" target=\"_top\">消费者客服</a>\\n                    \\n                            <a href=\"//helpcenter.taobao.com/index?from=high\" target=\"_top\">卖家客服</a>\\n                    \\n                    </div>\\n                </div>\\n                \\n            </li>\\n            \\n            \\n            \\n            \\n            <li class=\"site-nav-menu site-nav-sitemap site-nav-multi-menu J_MultiMenu\" id=\"J_SiteNavSitemap\" data-name=\"sitemap\" data-spm=\"1997525077\">\\n                <div class=\"site-nav-menu-hd\">\\n                    <a href=\"https://www.taobao.com/tbhome/page/sitemap\" target=\"_top\">\\n                        <span class=\"site-nav-icon site-nav-icon-highlight\">&#xe601;</span>\\n                        <span>网站导航</span>\\n                    </a>\\n                    \\n                    <span class=\"site-nav-arrow\"><span class=\"site-nav-icon\">&#xe605;</span></span>\\n                    \\n                </div>\\n                \\n            </li>\\n            \\n            \\n            \\n        </ul>\\n        \\n    </div>\\n</div>\\n\\n<!--[if lt IE 8]>\\n<style>html,body{overflow:hidden;height:100%}</style>\\n<div class=\"tb-ie-updater-layer\"></div>\\n<div class=\"tb-ie-updater-box\" data-spm=\"20161112\">\\n  <a href=\"https://www.google.cn/intl/zh-CN/chrome/browser/desktop/\" class=\"tb-ie-updater-google\" target=\"_blank\" data-spm-click=\"gostr=/tbieupdate;locaid=d1;name=google\">谷歌 Chrome</a>\\n  <a href=\"http://www.uc.cn/ucbrowser/download/\" class=\"tb-ie-updater-uc\" target=\"_blank\" data-spm-click=\"gostr=/tbieupdate20161112;locaid=d2;name=uc\">UC 浏览器</a>\"\\n</div>\\n<![endif]-->\\n\\t<link rel=\"stylesheet\" href=\"//g.alicdn.com/cm/rate-platform/0.9.25/common/common-min.css\" />\\n\\n<script src=\"//g.alicdn.com/cm/log/log.js\" crossorigin></script>\\n\\n\\n\\n<script src=\"//g.alicdn.com/cm/rate-platform/0.9.25/index-min.js\" id=\"J_tb_rate_entrance_js\" pg=\"\" crossorigin></script>\\n\\n</head>\\n<body><script>\\nwith(document)with(body)with(insertBefore(createElement(\"script\"),firstChild))setAttribute(\"exparams\",\"category=&userid=&aplus&yunid=&efeee313d5631&trid=0b082e1a15705288232121624e8735&asid=AQAAAAA3XpxdmZbjSQAAAACdrj8d3aJhVQ==\",id=\"tb-beacon-aplus\",src=(location>\"https\"?\"//g\":\"//g\")+\".alicdn.com/alilog/mlog/aplus_v2.js\")\\n</script>\\n\\n\\n\\n \\t    \\t\\t\\t<!-- start ems/mytaobao/header -->\\n<link rel=\"stylesheet\" href=\"//g.alicdn.com/tb/mtbframe/2.0.2/pages/home/base.css\">\\n<script type=\"text/javascript\" src=\"//g.alicdn.com/tb/mtbframe/2.0.4/components/common/base.js\"></script>\\n<!--\\n<link rel=\"stylesheet\" href=\"//g.alicdn.com/tb/mytaobao/5.0.8/pages/home/base.css\">\\n<script type=\"text/javascript\" src=\"//g.alicdn.com/tb/mytaobao/5.1.1/components/common/base.js\"></script>\\n-->\\n<header class=\"mt-header\" data-spm=\"a210b\">\\n  <article>\\n    <div class=\"mt-logo\" style=\"margin-left: 0px;\">\\n      <a title=\"我的淘宝\" href=\"//i.taobao.com/my_taobao.htm?nekot=1470211439696&amp;tracelog=newmytb_logodianji\"\\n        class=\"mt-tblogo\" data-spm=\"d1000351\"></a>\\n    </div>\\n    <nav class=\"mt-nav\">\\n      <ul id=\"J_MtMainNav\">\\n        <li class=\"selected\">\\n          <a href=\"//i.taobao.com/my_taobao.htm?tracelog=mytaobaonavindex&amp;nekot=1470211439696\"\\n            data-spm=\"d1000352\">首页</a>\\n            <i class=\"mt-arrow\"></i>\\n        </li>\\n        <li class=\"J_MtNavSubTrigger\">\\n          <a class=\"mt-nav-parent\" href=\"//member1.taobao.com/member/fresh/account_security.htm?tracelog=mytaobaonavsetup&amp;nekot=1470211439696\"\\n            data-spm=\"d1000356\">账户设置<i><em></em><s></s></i></a>\\n            <i class=\"mt-arrow\"></i>\\n            <div class=\"J_MtNavSub mt-nav-sub hide\">\\n              <div class=\"mt-nav-arr\"></div>\\n              <dl class=\"mt-nav-sub-col1\">\\n                <dt>安全设置</dt>\\n                <dd>\\n                  <p><a data-spm=\"11\" href=\"//110.taobao.com/account/product_validate.htm?type=password\">修改登录密码</a></p>\\n                  <p><a data-spm=\"12\" href=\"//110.taobao.com/account/rebind_phone_begin.htm\">手机绑定</a></p>\\n                  <p><a data-spm=\"13\" href=\"//110.taobao.com/product/question_set.htm\">密保问题设置</a></p>\\n                  <p><a data-spm=\"10\" href=\"//member1.taobao.com/member/fresh/account_security.htm\">其他</a></p>\\n                </dd>\\n              </dl>\\n              <dl class=\"mt-nav-sub-col2\">\\n                <dt>个人资料</dt>\\n                <dd>\\n                  <p><a data-spm=\"8\" href=\"//member1.taobao.com/member/fresh/deliver_address.htm\">收货地址</a></p>\\n                  <p><a data-spm=\"14\" href=\"//i.taobao.com/user/baseInfoSet.htm\">修改头像、昵称</a></p>\\n                  <p><a data-spm=\"15\" href=\"//msg.taobao.com/message/message_set.htm\">消息提醒设置</a></p>\\n                </dd>\\n              </dl>\\n              <dl class=\"mt-nav-sub-col3\">\\n                <dt>账号绑定</dt>\\n                <dd>\\n                  <p><a data-spm=\"7\" href=\"//member1.taobao.com/member/fresh/account_management.htm\">支付宝绑定</a></p>\\n                  <p><a data-spm=\"16\" href=\"//member1.taobao.com/member/fresh/weibo_bind_management.htm\">微博绑定</a></p>\\n                  <p><a data-spm=\"17\" href=\"//t.taobao.com/cooperate/connect/connect_manager.htm\">分享绑定</a></p>\\n                </dd>\\n              </dl>\\n            </div>\\n        </li>\\n        <li class=\"\">\\n          <a class=\"mt-nav-parent\" href=\"//msg.taobao.com/message/list.htm?tracelog=mytaobaonavmessage&amp;nekot=1470211439696\"\\n            data-spm=\"d1000357\">消息</a>\\n            <i class=\"mt-arrow\"></i>\\n        </li>\\n      </ul>\\n      <div class=\"search\" id=\"J_Search\" role=\"search\">\\n        <div class=\"search-panel search-sns-panel-field\">\\n          <form target=\"_blank\" action=\"//s.taobao.com/search\" name=\"search\" id=\"J_TSearchForm\"\\n            class=\"search-panel-focused\">\\n            <div class=\"search-button\">\\n              <button class=\"btn-search\" type=\"submit\">搜 索</button>\\n            </div>\\n            <div class=\"search-panel-fields\">\\n              <label for=\"q\"></label>\\n              <div class=\"search-combobox\" id=\"ks-component1045\">\\n                <div class=\"search-combobox-input-wrap\">\\n                  <input id=\"q\" name=\"q\" accesskey=\"s\" autofocus=\"true\" autocomplete=\"off\"\\n                    x-webkit-speech=\"\" x-webkit-grammar=\"builtin:translate\" aria-haspopup=\"true\"\\n                    aria-combobox=\"list\" role=\"combobox\" class=\"search-combobox-input\"\\n                    aria-label=\"请输入搜索文字或从搜索历史中选择\"></div>\\n              </div>\\n            </div>\\n            <input type=\"hidden\" name=\"commend\" value=\"all\">\\n            <input type=\"hidden\" name=\"ssid\" value=\"s5-e\" autocomplete=\"off\">\\n            <input type=\"hidden\" name=\"search_type\" value=\"mall\" autocomplete=\"off\">\\n            <input type=\"hidden\" name=\"sourceId\" value=\"tb.index\">\\n            <input type=\"hidden\" name=\"area\" value=\"c2c\">\\n            <input type=\"hidden\" name=\"spm\" value=\"a1z02.1.6856637.d4910789\">\\n            <!--[if lt IE 9]><s class=\"search-fix search-fix-panellt\"></s><s class=\"search-fix search-fix-panellb\"></s>\\n                        <![endif]-->\\n            </form>\\n        </div>\\n      </div>\\n    </nav>\\n\\n  </article>\\n</header>\\n<!-- end ems/mytaobao/header -->\\n\\t\\n<div id=\"page\">\\n\\t<div id=\"content\">\\n\\t\\t<div class=\"grid-c2\">\\n\\t\\t\\t<div class=\"col-main\">\\n\\t\\t\\t\\t<div class=\"main-wrap\">\\n\\t\\t\\t\\t\\t()\\n\\t\\t\\t\\t</div>\\n\\t\\t\\t</div>\\n\\t\\t\\t<div class=\"col-sub\">\\n\\t\\t\\t\\t\\n<div id=\"J_EMS\" style=\"width:0;height:0;\"></div>\\n<aside class=\"mt-menu\" id=\"J_MtSideMenu\">\\n  <div class=\"mt-menu-tree\">\\n    <dl class=\"mt-menu-item\" data-spm=\"a2109\">\\n      <dt class=\"fs14\">全部功能</dt>\\n      <dd>\\n        <a href=\"//cart.taobao.com/cart.htm?nekot=1470211439694\" target=\"_blank\" role=\"menuitem\"\\n          data-spm=\"d1000367\">我的购物车</a>\\n      </dd>\\n      <dd class=\"mt-menu-sub fold J_MtSideTree\">\\n        <b class=\"mt-indicator J_MtIndicator\">-</b>\\n        <a id=\"bought\" href=\"//trade.taobao.com/trade/itemlist/list_bought_items.htm?nekot=1470211439694\"\\n          data-spm=\"d1000368\">已买到的宝贝</a>\\n          <ul class=\"mt-menu-sub-content\">\\n            <li id=\"jinpai\">\\n              <a href=\"//paimai.taobao.com/auctionList/my_auction_list.htm?nekot=1470211439694\"\\n                data-spm=\"d1000369\">我的拍卖</a>\\n            </li>\\n            <li id=\"jipiao\">\\n              <a href=\"//jipiao.trip.taobao.com/order_manager.htm?nekot=1470211439694\" role=\"menuitem\"\\n                data-spm=\"d1000370\">机票酒店保险</a>\\n            </li>\\n            <li id=\"caipiao\">\\n              <a href=\"//caipiao.taobao.com/lottery/order/my_all_lottery_order.htm?nekot=1470211439694\"\\n                data-spm=\"d1000371\">我的彩票</a>\\n            </li>\\n            <script>\\n              if ((typeof __MT_MENU_FLAGS !== \"undefined\") && __MT_MENU_FLAGS\\n                .showB2BMenu)\\n              {\\n                document.write(\\n                  \\'<li id=\"trade1688\">\\' +\\n                  \\'<a href=\"//trade.taobao.com/trade/itemlist/list_bought_items_outer.htm?from=1688&scm=1217.1688.0.1&nekot=1470211439694\" data-spm=\"d1000390\">我的1688订单</a>\\' +\\n                  \\'</li>\\'\\n                );\\n              }\\n            </script>\\n            <li id=\"overseasTransport\">\\n              <a href=\"//consign.i56.taobao.com/user/consolidation/consolidatedGoods.htm?spm=a1z0f.7703789.0.0.5JrZ4R\">官方集运</a>\\n            </li>\\n          </ul>\\n      </dd>\\n      <dd id=\"boughtShop\">\\n        <a href=\"//favorite.taobao.com/list_bought_shops_n.htm?itemtype=0&amp;nekot=1470211439694\"\\n          data-spm=\"d1000373\">购买过的店铺</a>\\n      </dd>\\n      <dd id=\"invoice\" class=\"mt-menu-sub fold J_MtSideTree\">\\n        <b class=\"mt-indicator J_MtIndicator\">+</b>\\n        <a href=\"//inv.tmall.com/buyer/invoiceList.htm\" data-spm=\"d1001380\">我的发票</a>\\n        <ul class=\"mt-menu-sub-content\">\\n          <li id=\"invoiceList\">\\n            <a href=\"//inv.tmall.com/buyer/invoiceInfoList.htm\" data-spm=\"d1001381\">开票信息</a>\\n          </li>\\n          <li>\\n            <a href=\"//inv.tmall.com/buyer/invoiceList.htm\" data-spm=\"d1001381\">发票管理</a>\\n          </li>\\n        </ul>\\n      </dd>\\n      <dd id=\"favorite\"><a href=\"//shoucang.taobao.com/collectList.htm?nekot=1470211439694\" data-spm=\"d1000374\">我的收藏</a></dd>\\n      <dd id=\"point\"><a href=\"//vip.tmall.com/point/all?nekot=1470211439694\" target=\"_blank\" data-spm=\"d1000375\">我的积分</a></dd>\\n      <dd id=\"gotBonus\"><a href=\"//marketingop.taobao.com/cashHongbao.htm\" data-spm=\"d1000376\">我的优惠信息</a></dd>\\n      <dd id=\"myRate\"><a href=\"//rate.taobao.com/myRate.htm?nekot=1470211439694\" data-spm=\"d1000377\">评价管理</a></dd>\\n      <dd class=\"mt-menu-sub fold J_MtSideTree\">\\n        <b class=\"mt-indicator J_MtIndicator\">+</b>\\n        <a class=\"J_MtIndicator\" href=\"#\" data-spm=\"d1000378\">退款维权</a>\\n        <ul class=\"mt-menu-sub-content\">\\n          <li id=\"refundList\">\\n            <a href=\"//refund2.taobao.com/dispute/buyerDisputeList.htm\" data-spm=\"d1000379\">退款管理</a>\\n          </li>\\n          <li id=\"rulesManager\">\\n            <a href=\"//rights.taobao.com/complaint/buyerList.htm\"\\n              data-spm=\"d1000383\">投诉管理</a>\\n          </li>\\n          <li id=\"postedSuit\">\\n            <a href=\"//archer.taobao.com/myservice/report/report_i_posted_list.htm?type=2&amp;user_role=2&amp;isarchive=false&amp;nekot=1470211439694\" data-spm=\"d1000381\">举报管理</a>\\n          </li>\\n        </ul>\\n      </dd>\\n      <dd>\\n        <a data-spm=\"d1000391\" href=\"//www.taobao.com/markets/footmark/tbfoot\" target=\"_blank\" role=\"menuitem\">我的足迹</a>\\n      </dd>\\n      <dd>\\n         <a href=\"//aliqin.tmall.com/flowwallet/index.htm\" target=\"_blank\" role=\"menuitem\">流量钱包</a>\\n      </dd>\\n    </dl>\\n    <!---\\n    <p class=\"hide J_RecentVisitPlaceholder\"></p>\\n    -->\\n    <style></style>\\n  </div>\\n</aside>\\n\\n\\t\\t\\t</div>\\n\\t\\t</div>\\n\\t</div>\\n</div>\\n</body>\\n</html>'"
      ]
     },
     "execution_count": 19,
     "metadata": {},
     "output_type": "execute_result"
    }
   ],
   "source": [
    "a"
   ]
  },
  {
   "cell_type": "code",
   "execution_count": 20,
   "metadata": {},
   "outputs": [],
   "source": [
    "import math\n"
   ]
  },
  {
   "cell_type": "code",
   "execution_count": 38,
   "metadata": {},
   "outputs": [
    {
     "data": {
      "text/plain": [
       "9.589047672888043"
      ]
     },
     "execution_count": 38,
     "metadata": {},
     "output_type": "execute_result"
    }
   ],
   "source": [
    "+12*math.log2(174/100)"
   ]
  },
  {
   "cell_type": "code",
   "execution_count": null,
   "metadata": {},
   "outputs": [],
   "source": []
  },
  {
   "cell_type": "code",
   "execution_count": null,
   "metadata": {},
   "outputs": [],
   "source": []
  }
 ],
 "metadata": {
  "kernelspec": {
   "display_name": "Python 3",
   "language": "python",
   "name": "python3"
  },
  "language_info": {
   "codemirror_mode": {
    "name": "ipython",
    "version": 3
   },
   "file_extension": ".py",
   "mimetype": "text/x-python",
   "name": "python",
   "nbconvert_exporter": "python",
   "pygments_lexer": "ipython3",
   "version": "3.7.3"
  },
  "latex_envs": {
   "LaTeX_envs_menu_present": true,
   "autoclose": false,
   "autocomplete": true,
   "bibliofile": "biblio.bib",
   "cite_by": "apalike",
   "current_citInitial": 1,
   "eqLabelWithNumbers": true,
   "eqNumInitial": 1,
   "hotkeys": {
    "equation": "Ctrl-E",
    "itemize": "Ctrl-I"
   },
   "labels_anchors": false,
   "latex_user_defs": false,
   "report_style_numbering": false,
   "user_envs_cfg": false
  },
  "toc": {
   "base_numbering": 1,
   "nav_menu": {},
   "number_sections": true,
   "sideBar": true,
   "skip_h1_title": false,
   "title_cell": "Table of Contents",
   "title_sidebar": "Contents",
   "toc_cell": false,
   "toc_position": {},
   "toc_section_display": true,
   "toc_window_display": false
  }
 },
 "nbformat": 4,
 "nbformat_minor": 2
}
