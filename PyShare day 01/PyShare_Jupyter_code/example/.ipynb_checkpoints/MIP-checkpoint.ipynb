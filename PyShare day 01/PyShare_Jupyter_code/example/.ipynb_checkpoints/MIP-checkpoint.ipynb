{
 "cells": [
  {
   "cell_type": "markdown",
   "metadata": {},
   "source": [
    "- cplex"
   ]
  },
  {
   "cell_type": "code",
   "execution_count": 169,
   "metadata": {},
   "outputs": [],
   "source": [
    "model = '''\n",
    "MAX  \n",
    "x1 + 2 x2 + 3 x3 + x4\n",
    "ST.\n",
    "- x1 +   x2 + x3 + 10 x4 <= 20\n",
    "x1 - 3 x2 + x3<= 30\n",
    "x2- 3.5x4  = 0\n",
    "Bounds\n",
    "5 <= x1 <= 20\n",
    "0 <= x2\n",
    "0 <= x3\n",
    "1 <= x4 <= 9\n",
    "Integers\n",
    "x4\n",
    "END\n",
    "'''\n",
    "with open('MIP.lp', 'w') as file:\n",
    "    file.write(model)"
   ]
  },
  {
   "cell_type": "code",
   "execution_count": 170,
   "metadata": {},
   "outputs": [
    {
     "name": "stdout",
     "output_type": "stream",
     "text": [
      "objective_value = 95\n",
      "value:x_1 = 17.00\n",
      "value:x_2 = 3.50\n",
      "value:x_3 = 23.50\n",
      "value:x_4 = 1.00\n"
     ]
    }
   ],
   "source": [
    "import cplex\n",
    "cpx = cplex.Cplex()\n",
    "cpx.read(\"MIP.lp\")\n",
    "cpx.set_results_stream(None)\n",
    "cpx.solve()\n",
    "obj_v = cpx.solution.get_objective_value()\n",
    "x_v = cpx.solution.get_values()\n",
    "print(\"objective_value = %d\" % obj_v)\n",
    "for i in range(len(x_v)):\n",
    "    print(\"value:x_%d = %.2f\" % (i + 1, x_v[i]))"
   ]
  },
  {
   "cell_type": "code",
   "execution_count": null,
   "metadata": {},
   "outputs": [],
   "source": []
  }
 ],
 "metadata": {
  "kernelspec": {
   "display_name": "Python 3",
   "language": "python",
   "name": "python3"
  },
  "language_info": {
   "codemirror_mode": {
    "name": "ipython",
    "version": 3
   },
   "file_extension": ".py",
   "mimetype": "text/x-python",
   "name": "python",
   "nbconvert_exporter": "python",
   "pygments_lexer": "ipython3",
   "version": "3.6.5"
  },
  "toc": {
   "base_numbering": 1,
   "nav_menu": {},
   "number_sections": true,
   "sideBar": true,
   "skip_h1_title": false,
   "title_cell": "Table of Contents",
   "title_sidebar": "Contents",
   "toc_cell": false,
   "toc_position": {},
   "toc_section_display": true,
   "toc_window_display": false
  }
 },
 "nbformat": 4,
 "nbformat_minor": 2
}
