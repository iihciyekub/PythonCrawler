{
 "cells": [
  {
   "cell_type": "markdown",
   "metadata": {},
   "source": [
    "*注意:本教程主要针对Python 3.x版本的学习,部分代码将与python2.X不兼容*"
   ]
  },
  {
   "cell_type": "markdown",
   "metadata": {},
   "source": [
    "#  ※ Python标准数据类型"
   ]
  },
  {
   "cell_type": "markdown",
   "metadata": {},
   "source": [
    "---\n",
    "## 字典 (dict)\n",
    "- 字典是另一种可变容器模型，且可存储任意类型对象。\n",
    "\n",
    "- 字典的每个键值(key=>value)对用冒号(:)分割，每个对之间用逗号(,)分割，整个字典包括在花括号({})中 ,格式如下所示：\n",
    "- dic = {key1 : value1, key2 : value2 }"
   ]
  },
  {
   "cell_type": "code",
   "execution_count": null,
   "metadata": {},
   "outputs": [],
   "source": [
    "{} #创建一个空字典"
   ]
  },
  {
   "cell_type": "code",
   "execution_count": null,
   "metadata": {},
   "outputs": [],
   "source": [
    "{'a':1,'b':0.2,'c':True,'d':'hello'} #创建一个带有键值对的字典"
   ]
  },
  {
   "cell_type": "code",
   "execution_count": null,
   "metadata": {},
   "outputs": [],
   "source": [
    "dict1 = {'a':1,'b':0.2,'c':True,'d':'hello'} # 创建一个dict字典并赋值给变量dict1"
   ]
  },
  {
   "cell_type": "code",
   "execution_count": null,
   "metadata": {},
   "outputs": [],
   "source": [
    "type(dict1)"
   ]
  },
  {
   "cell_type": "markdown",
   "metadata": {},
   "source": [
    "## dict 字典的操作 (字典是无序的)\n",
    "*序列都可以进行的操作包括索引，切片，加，乘，检查成员*"
   ]
  },
  {
   "cell_type": "code",
   "execution_count": null,
   "metadata": {},
   "outputs": [],
   "source": [
    "dict1={'a':1,'b':0.2,'c':True,'d':'hello'}"
   ]
  },
  {
   "cell_type": "markdown",
   "metadata": {},
   "source": [
    "~~dict1[-5]~~ #字典(dict)是无序的,不支持索引"
   ]
  },
  {
   "cell_type": "markdown",
   "metadata": {},
   "source": [
    "~~dict1[1:3]~~ 字典(dict)是无序的,不支持切片操作"
   ]
  },
  {
   "cell_type": "code",
   "execution_count": null,
   "metadata": {},
   "outputs": [],
   "source": [
    "dict1['a'] #可通过key值索引vlaue值"
   ]
  },
  {
   "cell_type": "code",
   "execution_count": null,
   "metadata": {},
   "outputs": [],
   "source": [
    "dict1['a']='new' #字典允许修改成员值\n",
    "print(dict1)"
   ]
  },
  {
   "cell_type": "code",
   "execution_count": null,
   "metadata": {},
   "outputs": [],
   "source": [
    "dict1['new']='python' #列表有提供增加成员的方法\n",
    "print(dict1)"
   ]
  },
  {
   "cell_type": "code",
   "execution_count": null,
   "metadata": {},
   "outputs": [],
   "source": [
    "del(dict1['new']) #列表允许删除成员\n",
    "print(dict1)"
   ]
  },
  {
   "cell_type": "code",
   "execution_count": null,
   "metadata": {},
   "outputs": [],
   "source": [
    "for x in dict1: \n",
    "    print(x,end=',') #可以通过迭代方法遍历dict字典得到key值"
   ]
  },
  {
   "cell_type": "code",
   "execution_count": null,
   "metadata": {},
   "outputs": [],
   "source": [
    "for x in dict1: \n",
    "    print(dict1[x],end=',') #可以通过迭代方法遍历dict字典得到vlaue值"
   ]
  },
  {
   "cell_type": "markdown",
   "metadata": {},
   "source": [
    "~~dict1+dict1~~  字典不支持加法操作"
   ]
  },
  {
   "cell_type": "markdown",
   "metadata": {},
   "source": [
    "~~dict1*4~~  字典不支持乘法操作"
   ]
  },
  {
   "cell_type": "code",
   "execution_count": null,
   "metadata": {},
   "outputs": [],
   "source": [
    "1 in dict1 #检查成员操作"
   ]
  },
  {
   "cell_type": "code",
   "execution_count": null,
   "metadata": {},
   "outputs": [],
   "source": [
    "1 not in dict1 #检查成员操作"
   ]
  },
  {
   "cell_type": "code",
   "execution_count": null,
   "metadata": {},
   "outputs": [],
   "source": [
    "del(dict1) #通过del()方法删除元组"
   ]
  },
  {
   "cell_type": "markdown",
   "metadata": {},
   "source": [
    "## dict 字典内置函数 （提取学习资料，不需要细讲）"
   ]
  },
  {
   "cell_type": "markdown",
   "metadata": {},
   "source": [
    "- 返回指定键(第一个参数)的vlaue值，如果key值不在字典中返回第二参数,default=None"
   ]
  },
  {
   "cell_type": "code",
   "execution_count": null,
   "metadata": {},
   "outputs": [],
   "source": [
    "dict1 = {'a': 1, 'b': 0.2, 'c': True, 'd': 'hello'}\n",
    "a = dict1.get('a', '3')\n",
    "print(a)"
   ]
  },
  {
   "cell_type": "markdown",
   "metadata": {},
   "source": [
    "- 和get()类似, 但如果键不存在于字典中，将会添加键并将值设为第二参数"
   ]
  },
  {
   "cell_type": "code",
   "execution_count": null,
   "metadata": {},
   "outputs": [],
   "source": [
    "dict1 = {'a': 1, 'b': 0.2, 'c': True, 'd': 'hello'}\n",
    "a = dict1.setdefault('key', 3)\n",
    "print(a)"
   ]
  },
  {
   "cell_type": "markdown",
   "metadata": {},
   "source": [
    "- 创建一个新字典,以序列中元素做字典的key键,第二个参数为字典所有键对应的初始值"
   ]
  },
  {
   "cell_type": "code",
   "execution_count": null,
   "metadata": {},
   "outputs": [],
   "source": [
    "a = dict.fromkeys([3, 2], 'a')\n",
    "print(a)"
   ]
  },
  {
   "cell_type": "markdown",
   "metadata": {},
   "source": [
    "- #返回一个字典的浅复制(对复制后的对象进行操作不对原对象产生影响)"
   ]
  },
  {
   "cell_type": "code",
   "execution_count": null,
   "metadata": {},
   "outputs": [],
   "source": [
    "dict1 = {'a': 1, 'b': 0.2, 'c': True, 'd': 'hello'}\n",
    "a = dict1.copy()\n",
    "print(a)"
   ]
  },
  {
   "cell_type": "markdown",
   "metadata": {},
   "source": [
    "- 清空字典"
   ]
  },
  {
   "cell_type": "code",
   "execution_count": null,
   "metadata": {},
   "outputs": [],
   "source": [
    "dict1 = {'a': 1, 'b': 0.2, 'c': True, 'd': 'hello'}\n",
    "dict2.clear()  #\n",
    "print(dict2, dict1)  #打印复制对象与原对象"
   ]
  },
  {
   "cell_type": "markdown",
   "metadata": {},
   "source": [
    "- 以列表返回可遍历的(key键,value值)元组数组"
   ]
  },
  {
   "cell_type": "code",
   "execution_count": null,
   "metadata": {},
   "outputs": [],
   "source": [
    "dict1 = {'a': 1, 'b': 0.2, 'c': True, 'd': 'hello'}\n",
    "dicitems = dict1.items()\n",
    "print(dicitems)\n",
    "for x in dicitems:\n",
    "    print(x)"
   ]
  },
  {
   "cell_type": "markdown",
   "metadata": {},
   "source": [
    "- 以列表返回一个字典所有的key键"
   ]
  },
  {
   "cell_type": "code",
   "execution_count": null,
   "metadata": {},
   "outputs": [],
   "source": [
    "dict1 = {'a': 1, 'b': 0.2, 'c': True, 'd': 'hello'}\n",
    "dickeys = dict1.keys()  #返回值是一个迭代类型的值\n",
    "print(dickeys)\n",
    "for x in dickeys:\n",
    "    print(x)"
   ]
  },
  {
   "cell_type": "markdown",
   "metadata": {},
   "source": [
    "- 以列表返回一个字典所有的value键"
   ]
  },
  {
   "cell_type": "code",
   "execution_count": null,
   "metadata": {},
   "outputs": [],
   "source": [
    "dict1 = {'a': 1, 'b': 0.2, 'c': True, 'd': 'hello'}\n",
    "dicvalues = dict1.values()  #返回值是一个迭代类型的值\n",
    "print(dicvalues)\n",
    "for x in dicvalues:\n",
    "    print(x)"
   ]
  },
  {
   "cell_type": "markdown",
   "metadata": {},
   "source": [
    "- 将dict1的键值对更新dict2中，"
   ]
  },
  {
   "cell_type": "code",
   "execution_count": null,
   "metadata": {},
   "outputs": [],
   "source": [
    "dict1 = {'a': 1, 'b': 0.2, 'c': True, 'd': 'hello'}\n",
    "dict2 = {'a': 3, 'g': 3}\n",
    "dict2.update(dict1)\n",
    "print(dict2)"
   ]
  },
  {
   "cell_type": "markdown",
   "metadata": {},
   "source": [
    "- 删除字典给定键key所对应的值,返回值为被删除的value值,否则,返回第二参数的值。"
   ]
  },
  {
   "cell_type": "code",
   "execution_count": null,
   "metadata": {},
   "outputs": [],
   "source": [
    "dict1 = {'a': 1, 'b': 0.2, 'c': True, 'd': 'hello'}\n",
    "dict1.pop('a', 'e')\n",
    "print(dict1)"
   ]
  },
  {
   "cell_type": "markdown",
   "metadata": {},
   "source": [
    "- 随机返回并删除字典中的一对键和值(一般删除末尾对)。"
   ]
  },
  {
   "cell_type": "code",
   "execution_count": null,
   "metadata": {},
   "outputs": [],
   "source": [
    "dict1 = {'a': 1, 'b': 0.2, 'c': True, 'd': 'hello'}\n",
    "dict1.popitem()"
   ]
  }
 ],
 "metadata": {
  "kernelspec": {
   "display_name": "Python 3",
   "language": "python",
   "name": "python3"
  },
  "language_info": {
   "codemirror_mode": {
    "name": "ipython",
    "version": 3
   },
   "file_extension": ".py",
   "mimetype": "text/x-python",
   "name": "python",
   "nbconvert_exporter": "python",
   "pygments_lexer": "ipython3",
   "version": "3.6.5"
  },
  "toc": {
   "base_numbering": 1,
   "nav_menu": {},
   "number_sections": true,
   "sideBar": true,
   "skip_h1_title": false,
   "title_cell": "Table of Contents",
   "title_sidebar": "Contents",
   "toc_cell": false,
   "toc_position": {},
   "toc_section_display": true,
   "toc_window_display": false
  }
 },
 "nbformat": 4,
 "nbformat_minor": 2
}
