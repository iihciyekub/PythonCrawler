{
 "cells": [
  {
   "cell_type": "markdown",
   "metadata": {},
   "source": [
    "## requests"
   ]
  },
  {
   "cell_type": "code",
   "execution_count": 2,
   "metadata": {},
   "outputs": [],
   "source": [
    "import requests"
   ]
  },
  {
   "cell_type": "code",
   "execution_count": 3,
   "metadata": {},
   "outputs": [
    {
     "name": "stdout",
     "output_type": "stream",
     "text": [
      "<!DOCTYPE HTML PUBLIC \"-//IETF//DTD HTML 2.0//EN\">\r\n",
      "<html>\r\n",
      "<head><title>403 Forbidden</title></head>\r\n",
      "<body bgcolor=\"white\">\r\n",
      "<h1>403 Forbidden</h1>\r\n",
      "<p>You don't have permission to access the URL on this server.<hr/>Powered by Tengine</body>\r\n",
      "</html>\r\n",
      "\n"
     ]
    }
   ],
   "source": [
    "re = requests.get(\"http://maoyan.com/board/4\")\n",
    "print(re.text)"
   ]
  },
  {
   "cell_type": "markdown",
   "metadata": {},
   "source": [
    "- 没有添加请求头时,无法访问网页,尝试添加请求头headers"
   ]
  },
  {
   "cell_type": "code",
   "execution_count": 4,
   "metadata": {},
   "outputs": [],
   "source": [
    "headers = {\n",
    "    \"User-Agent\":\n",
    "    \"Mozilla/5.0 (Windows NT 10.0; Win64; x64) AppleWebKit/537.36 (KHTML, like Gecko) Chrome/68.0.3440.84 Safari/537.36\"\n",
    "}"
   ]
  },
  {
   "cell_type": "markdown",
   "metadata": {},
   "source": [
    "- 添加请求头之后就可以正常访问网页了"
   ]
  },
  {
   "cell_type": "code",
   "execution_count": 5,
   "metadata": {},
   "outputs": [],
   "source": [
    "re = requests.get(\"http://maoyan.com/board/4\", headers=headers)"
   ]
  },
  {
   "cell_type": "code",
   "execution_count": 6,
   "metadata": {},
   "outputs": [
    {
     "name": "stdout",
     "output_type": "stream",
     "text": [
      "{'Server': 'Tengine', 'Date': 'Tue, 23 Oct 2018 21:59:38 GMT', 'Content-Type': 'text/html; charset=utf-8', 'Content-Length': '4610', 'Connection': 'keep-alive', 'Set-Cookie': 'uuid_n_v=v1; path=/; expires=Thu, 22 Nov 2018 21:59:38 GMT, uuid=EFD8B1B0D70E11E8A5CC47228DF4F4B50397497147AD4C26A7A892C7F0ED27C6; path=/; expires=Thu, 22 Nov 2018 21:59:38 GMT, lt=; path=/; expires=Thu, 01 Jan 1970 00:00:00 GMT; httponly, lt.sig=y8Z35vm0s33pZar20SZcdcJx7mE; path=/; expires=Thu, 01 Jan 1970 00:00:00 GMT; httponly, _csrf=086b8ff985fdff149f004a5234ca5c3763648667955b95a82a227ee1cbc56a12; path=/; httponly', 'content-encoding': 'gzip'}\n"
     ]
    }
   ],
   "source": [
    "print(re.headers)"
   ]
  },
  {
   "cell_type": "markdown",
   "metadata": {},
   "source": [
    "- 用于保持会话登陆信息的,本章节不涉及到这个内容,以后再讨论,"
   ]
  },
  {
   "cell_type": "code",
   "execution_count": 7,
   "metadata": {},
   "outputs": [
    {
     "name": "stdout",
     "output_type": "stream",
     "text": [
      "<RequestsCookieJar[<Cookie _csrf=086b8ff985fdff149f004a5234ca5c3763648667955b95a82a227ee1cbc56a12 for maoyan.com/>, <Cookie uuid=EFD8B1B0D70E11E8A5CC47228DF4F4B50397497147AD4C26A7A892C7F0ED27C6 for maoyan.com/>, <Cookie uuid_n_v=v1 for maoyan.com/>]>\n"
     ]
    }
   ],
   "source": [
    "print(re.cookies)"
   ]
  },
  {
   "cell_type": "markdown",
   "metadata": {},
   "source": [
    "- 获取网络资源,比如下载图片"
   ]
  },
  {
   "cell_type": "code",
   "execution_count": 8,
   "metadata": {},
   "outputs": [],
   "source": [
    "import requests\n",
    "url = \"https://pic4.zhimg.com/v2-fb00cf1a31e087e2564f563f203ee098_xl.jpg\"\n",
    "re = requests.get(url, headers=headers)\n",
    "with open(\"a.jpg\", \"wb\") as jpg:\n",
    "    jpg.write(re.content)"
   ]
  },
  {
   "cell_type": "markdown",
   "metadata": {},
   "source": [
    "## pyquery"
   ]
  },
  {
   "cell_type": "code",
   "execution_count": null,
   "metadata": {},
   "outputs": [],
   "source": [
    "html = '''\n",
    "<div id=\"container\">\n",
    "    <ul class=\"list\">\n",
    "         <li class=\"item-0\" img=\"aaa\">first item</li>\n",
    "         <li class=\"item-1\"><a href=\"link2.html\">second item</a></li>\n",
    "         <li class=\"item-0 active\"><a href=\"link3.html\"><span class=\"bold\">third item</span></a></li>\n",
    "         <li class=\"item-1 active2\"><a href=\"link4.html\">fourth item</a></li>\n",
    "         <li class=\"item-0\"><a href=\"link5.html\">fifth item</a></li>\n",
    "     </ul>\n",
    " </div>\n",
    "'''"
   ]
  },
  {
   "cell_type": "markdown",
   "metadata": {},
   "source": [
    "- div ul li a 这些都是标签\n",
    "- id在CSS选择器中都是用#+名字表示,例如 #container\n",
    "- 带class属性名的 都用 .+名字表示,例如 .item-0\n",
    "- 有些标签带有两个class值,例如class=\"item-0 active,中间带有空格,所以是两个属性值,用.item-0.active表示\n",
    "- 标签直接用标签名,例如li"
   ]
  },
  {
   "cell_type": "code",
   "execution_count": null,
   "metadata": {},
   "outputs": [],
   "source": [
    "from pyquery import PyQuery as pq\n",
    "doc = pq(html)\n",
    "pagecode = doc('#container')\n",
    "print(pagecode)"
   ]
  },
  {
   "cell_type": "code",
   "execution_count": null,
   "metadata": {},
   "outputs": [],
   "source": [
    "html = '''\n",
    "<div id=\"container\">\n",
    "    <ul class=\"list\">\n",
    "         <li class=\"item-0\">first item</li>\n",
    "         <li class=\"item-1\"><a href=\"link2.html\">second item</a></li>\n",
    "         <li class=\"item-0 active\"><a href=\"link3.html\"><span class=\"bold\">third item</span></a></li>\n",
    "         <li class=\"item-1 active2\"><a href=\"link4.html\">fourth item</a></li>\n",
    "         <li class=\"item-0\"><a href=\"dlink5.html\">fifth item</a></li>\n",
    "     </ul>\n",
    " </div>\n",
    "'''\n",
    "from pyquery import PyQuery as pq\n",
    "doc = pq(html)\n",
    "pagecode = doc.find(\"#container\")\n",
    "print(pagecode)"
   ]
  },
  {
   "cell_type": "code",
   "execution_count": null,
   "metadata": {},
   "outputs": [],
   "source": [
    "html = '''\n",
    "<div id=\"container\">\n",
    "    <ul class=\"list\">\n",
    "         <li class=\"item-0\">first item</li>\n",
    "         <li class=\"item-1\"><a href=\"link2.html\">second item</a></li>\n",
    "         <li class=\"item-0 active\"><a href=\"link3.html\"><span class=\"bold\">third item</span></a></li>\n",
    "         <li class=\"item-1 active2\"><a href=\"link4.html\">fourth item</a></li>\n",
    "         <li class=\"item-0\"><a href=\"dlink5.html\">fifth item</a></li>\n",
    "     </ul>\n",
    " </div>\n",
    "'''\n",
    "from pyquery import PyQuery as pq\n",
    "doc = pq(html)\n",
    "pagecode = doc(\"#container .list\")\n",
    "print(pagecode)"
   ]
  },
  {
   "cell_type": "code",
   "execution_count": null,
   "metadata": {},
   "outputs": [],
   "source": [
    "html = '''\n",
    "<div id=\"container\">\n",
    "    <ul class=\"list\">\n",
    "         <li class=\"item-0\">first item</li>\n",
    "         <li class=\"item-1\"><a href=\"link2.html\">second item</a></li>\n",
    "         <li class=\"item-0 active\"><a href=\"link3.html\"><span class=\"bold\">third item</span></a></li>\n",
    "         <li class=\"item-1 active2\"><a href=\"link4.html\">fourth item</a></li>\n",
    "         <li class=\"item-0\"><a href=\"dlink5.html\">fifth item</a></li>\n",
    "     </ul>\n",
    " </div>\n",
    "'''\n",
    "from pyquery import PyQuery as pq\n",
    "doc = pq(html)\n",
    "pagecode = doc('#container .list .item-0')\n",
    "print(pagecode)"
   ]
  },
  {
   "cell_type": "code",
   "execution_count": null,
   "metadata": {},
   "outputs": [],
   "source": [
    "html = '''\n",
    "<div id=\"container\">\n",
    "    <ul class=\"list\">\n",
    "         <li class=\"item-0\">first item</li>\n",
    "         <li class=\"item-1\"><a href=\"link2.html\">second item</a></li>\n",
    "         <li class=\"item-0 active\"><a href=\"link3.html\"><span class=\"bold\">third item</span></a></li>\n",
    "         <li class=\"item-1 active2\"><a href=\"link4.html\">fourth item</a></li>\n",
    "         <li class=\"item-0\"><a href=\"dlink5.html\">fifth item</a></li>\n",
    "     </ul>\n",
    " </div>\n",
    "'''\n",
    "from pyquery import PyQuery as pq\n",
    "doc = pq(html)\n",
    "pagecode = doc('#container .list .item-0.active')\n",
    "print(pagecode)"
   ]
  },
  {
   "cell_type": "code",
   "execution_count": null,
   "metadata": {},
   "outputs": [],
   "source": [
    "html = '''\n",
    "<div id=\"container\">\n",
    "    <ul class=\"list\">\n",
    "         <li class=\"item-0\">first item</li>\n",
    "         <li class=\"item-1\"><a href=\"link2.html\">second item</a></li>\n",
    "         <li class=\"item-0 active\"><a href=\"link3.html\"><span class=\"bold\">third item</span></a></li>\n",
    "         <li class=\"item-1 active2\"><a href=\"link4.html\">fourth item</a></li>\n",
    "         <li class=\"item-0\"><a href=\"dlink5.html\">fifth item</a></li>\n",
    "     </ul>\n",
    " </div>\n",
    "'''\n",
    "from pyquery import PyQuery as pq\n",
    "doc = pq(html)\n",
    "pagecode = doc('#container .list a')\n",
    "print(pagecode)"
   ]
  },
  {
   "cell_type": "markdown",
   "metadata": {},
   "source": [
    "- 一些巧妙的特殊搜索法"
   ]
  },
  {
   "cell_type": "markdown",
   "metadata": {},
   "source": [
    "- 匹配某个属性值以***开头的元素"
   ]
  },
  {
   "cell_type": "code",
   "execution_count": null,
   "metadata": {},
   "outputs": [],
   "source": [
    "html = '''\n",
    "<div id=\"container\">\n",
    "    <ul class=\"list\">\n",
    "         <li class=\"item-0\">first item</li>\n",
    "         <li class=\"item-1\"><a href=\"link2.html\">second item</a></li>\n",
    "         <li class=\"item-0 active\"><a href=\"link3.html\"><span class=\"bold\">third item</span></a></li>\n",
    "         <li class=\"item-1 active2\"><a href=\"link4.html\">fourth item</a></li>\n",
    "         <li class=\"item-0\"><a href=\"dlink5.html\">fifth item</a></li>\n",
    "     </ul>\n",
    " </div>\n",
    "'''\n",
    "from pyquery import PyQuery as pq\n",
    "doc = pq(html)\n",
    "pagecode = doc(\"#container .list a[href^='d']\")\n",
    "print(pagecode)"
   ]
  },
  {
   "cell_type": "markdown",
   "metadata": {},
   "source": [
    "- 匹配某个属性值以***结尾的元素"
   ]
  },
  {
   "cell_type": "code",
   "execution_count": null,
   "metadata": {},
   "outputs": [],
   "source": [
    "html = '''\n",
    "<div id=\"container\">\n",
    "    <ul class=\"list\">\n",
    "         <li class=\"item-0\">first item</li>\n",
    "         <li class=\"item-1\"><a href=\"link2.html\">second item</a></li>\n",
    "         <li class=\"item-0 active\"><a href=\"link3.html\"><span class=\"bold\">third item</span></a></li>\n",
    "         <li class=\"item-1 active2\"><a href=\"link4.html\">fourth item</a></li>\n",
    "         <li class=\"item-0\"><a href=\"link5.html\">fifth item</a></li>\n",
    "     </ul>\n",
    " </div>\n",
    "'''\n",
    "from pyquery import PyQuery as pq\n",
    "doc = pq(html)\n",
    "pagecode = doc(\"#container .list a[href$='5.html']\")\n",
    "print(pagecode)"
   ]
  },
  {
   "cell_type": "code",
   "execution_count": null,
   "metadata": {},
   "outputs": [],
   "source": []
  },
  {
   "cell_type": "code",
   "execution_count": null,
   "metadata": {},
   "outputs": [],
   "source": [
    "html = '''\n",
    "<div id=\"container\">\n",
    "    <ul class=\"list\">\n",
    "         <li class=\"item-0\">first item</li>\n",
    "         <li class=\"item-1\"><a href=\"linoo2.html\">second item</a></li>\n",
    "         <li class=\"item-0 active\"><a href=\"link3.html\"><span class=\"bold\">third item</span></a></li>\n",
    "         <li class=\"item-1 active2\"><a href=\"link4.html\">fourth item</a></li>\n",
    "         <li class=\"item-0\"><a href=\"linook5.html\">fifth item</a></li>\n",
    "     </ul>\n",
    " </div>\n",
    "'''\n",
    "from pyquery import PyQuery as pq\n",
    "doc = pq(html)\n",
    "pagecode = doc(\"#container .list a[href*='oo']\")\n",
    "print(pagecode)"
   ]
  },
  {
   "cell_type": "markdown",
   "metadata": {},
   "source": [
    "- 猫眼电影排行榜"
   ]
  },
  {
   "cell_type": "code",
   "execution_count": 35,
   "metadata": {},
   "outputs": [
    {
     "name": "stdout",
     "output_type": "stream",
     "text": [
      "欧洲攻略\n",
      "碟中谍6：全面瓦解\n",
      "精灵旅社3：疯狂假期\n",
      "快把我哥带走\n",
      "新乌龙院之笑闹江湖\n",
      "昨日青空\n",
      "未来机器城\n",
      "大师兄\n",
      "反贪风暴3\n",
      "爸，我一定行的\n",
      "大轰炸\n",
      "黑子的篮球·终极一战\n",
      "美食大冒险之英雄烩\n",
      "影\n",
      "无双\n",
      "如影随心\n",
      "爵迹2\n",
      "云南虫谷\n",
      "李茶的姑妈\n",
      "李宗伟：败者为王\n",
      "飞驰人生\n",
      "封门笔仙\n",
      "人间·喜剧\n",
      "说走就走之不说再见\n",
      "胖子行动队\n",
      "黄金兄弟\n",
      "摸金校尉之九幽将军\n",
      "神奇动物：格林德沃之罪\n",
      "悲伤逆流成河\n",
      "阿尔法：狼伴归途\n",
      "大闹西游\n",
      "藏北秘岭·重返无人区\n",
      "素人特工\n",
      "最后的棒棒\n",
      "疯狂的外星人\n",
      "道高一丈\n",
      "古剑奇谭之流月昭明\n",
      "墨多多谜境冒险\n",
      "惊慌失色之诡寓\n",
      "阿凡达2\n",
      "找到你\n",
      "我来自纽约\n",
      "未择之路\n",
      "江湖儿女\n",
      "解剖室灵异事件之男生宿舍\n",
      "他是一只狗\n",
      "流浪地球\n",
      "暮光巴黎\n",
      "新哥斯拉\n"
     ]
    },
    {
     "ename": "FileNotFoundError",
     "evalue": "[Errno 2] No such file or directory: 'a'",
     "output_type": "error",
     "traceback": [
      "\u001b[1;31m---------------------------------------------------------------------------\u001b[0m",
      "\u001b[1;31mFileNotFoundError\u001b[0m                         Traceback (most recent call last)",
      "\u001b[1;32m<ipython-input-35-59aeed24f62d>\u001b[0m in \u001b[0;36m<module>\u001b[1;34m()\u001b[0m\n\u001b[0;32m     17\u001b[0m     \u001b[1;32mfor\u001b[0m \u001b[0mi\u001b[0m \u001b[1;32min\u001b[0m \u001b[0maa\u001b[0m\u001b[1;33m:\u001b[0m\u001b[1;33m\u001b[0m\u001b[0m\n\u001b[0;32m     18\u001b[0m         \u001b[0mprint\u001b[0m\u001b[1;33m(\u001b[0m\u001b[0mi\u001b[0m\u001b[1;33m(\u001b[0m\u001b[1;34m\".name a\"\u001b[0m\u001b[1;33m)\u001b[0m\u001b[1;33m.\u001b[0m\u001b[0mattr\u001b[0m\u001b[1;33m(\u001b[0m\u001b[1;34m\"title\"\u001b[0m\u001b[1;33m)\u001b[0m\u001b[1;33m)\u001b[0m\u001b[1;33m\u001b[0m\u001b[0m\n\u001b[1;32m---> 19\u001b[1;33m \u001b[1;32mwith\u001b[0m \u001b[0mopen\u001b[0m\u001b[1;33m(\u001b[0m\u001b[1;34m'a'\u001b[0m\u001b[1;33m)\u001b[0m \u001b[1;32mas\u001b[0m \u001b[0mtarget\u001b[0m\u001b[1;33m:\u001b[0m\u001b[1;33m\u001b[0m\u001b[0m\n\u001b[0m\u001b[0;32m     20\u001b[0m     \u001b[1;32mpass\u001b[0m\u001b[1;33m\u001b[0m\u001b[0m\n",
      "\u001b[1;31mFileNotFoundError\u001b[0m: [Errno 2] No such file or directory: 'a'"
     ]
    }
   ],
   "source": [
    "from pyquery import PyQuery as pq\n",
    "import requests\n",
    "\n",
    "headers = {\n",
    "    \"User-Agent\":\n",
    "    \"Mozilla/5.0 (Windows NT 10.0; Win64; x64) AppleWebKit/537.36 (KHTML, like Gecko) Chrome/68.0.3440.84 Safari/537.36\",\n",
    "}\n",
    "\n",
    "\n",
    "def urlw(indext):\n",
    "    return f'http://maoyan.com/board/6?offset={str(indext)}'\n",
    "\n",
    "\n",
    "for i in range(1, 100, 10):\n",
    "    html = requests.get(urlw(i), headers=headers)\n",
    "    do = pq(html.text)\n",
    "    aa = do(\"#app .board-item-content\").items()\n",
    "    for i in aa:\n",
    "        print(i(\".name a\").attr(\"title\"))\n",
    "with open('a') as target:\n",
    "    pass"
   ]
  },
  {
   "cell_type": "markdown",
   "metadata": {},
   "source": [
    "- 豆瓣电影TOP250"
   ]
  },
  {
   "cell_type": "code",
   "execution_count": 38,
   "metadata": {},
   "outputs": [
    {
     "name": "stdout",
     "output_type": "stream",
     "text": [
      "霸王别姬\n",
      "这个杀手不太冷 / Léon\n",
      "阿甘正传 / Forrest Gump\n",
      "美丽人生 / La vita è bella\n",
      "泰坦尼克号 / Titanic\n",
      "千与千寻 / 千と千尋の神隠し\n",
      "辛德勒的名单 / Schindler's List\n",
      "盗梦空间 / Inception\n",
      "机器人总动员 / WALL·E\n",
      "忠犬八公的故事 / Hachi: A Dog's Tale\n",
      "三傻大闹宝莱坞 / 3 Idiots\n",
      "海上钢琴师 / La leggenda del pianista sull'oceano\n",
      "放牛班的春天 / Les choristes\n",
      "大话西游之大圣娶亲 / 西遊記大結局之仙履奇緣\n",
      "楚门的世界 / The Truman Show\n",
      "教父 / The Godfather\n",
      "龙猫 / となりのトトロ\n",
      "星际穿越 / Interstellar\n",
      "熔炉 / 도가니\n",
      "无间道 / 無間道\n",
      "触不可及 / Intouchables\n",
      "乱世佳人 / Gone with the Wind\n",
      "当幸福来敲门 / The Pursuit of Happyness\n",
      "怦然心动 / Flipped\n",
      "天堂电影院 / Nuovo Cinema Paradiso\n",
      "疯狂动物城 / Zootopia\n",
      "十二怒汉 / 12 Angry Men\n",
      "蝙蝠侠：黑暗骑士 / The Dark Knight\n",
      "鬼子来了\n",
      "少年派的奇幻漂流 / Life of Pi\n",
      "活着\n",
      "搏击俱乐部 / Fight Club\n",
      "指环王3：王者无敌 / The Lord of the Rings: The Return of the King\n",
      "天空之城 / 天空の城ラピュタ\n",
      "大话西游之月光宝盒 / 西遊記第壹佰零壹回之月光寶盒\n",
      "飞屋环游记 / Up\n",
      "控方证人 / Witness for the Prosecution\n",
      "罗马假日 / Roman Holiday\n",
      "窃听风暴 / Das Leben der Anderen\n",
      "两杆大烟枪 / Lock, Stock and Two Smoking Barrels\n",
      "飞越疯人院 / One Flew Over the Cuckoo's Nest\n",
      "闻香识女人 / Scent of a Woman\n",
      "哈尔的移动城堡 / ハウルの動く城\n",
      "辩护人 / 변호인\n",
      "摔跤吧！爸爸 / Dangal\n",
      "V字仇杀队 / V for Vendetta\n",
      "海豚湾 / The Cove\n",
      "死亡诗社 / Dead Poets Society\n",
      "教父2 / The Godfather: Part Ⅱ\n",
      "指环王2：双塔奇兵 / The Lord of the Rings: The Two Towers\n",
      "美丽心灵 / A Beautiful Mind\n",
      "指环王1：魔戒再现 / The Lord of the Rings: The Fellowship of the Ring\n",
      "饮食男女 / 飲食男女\n",
      "情书 / Love Letter\n",
      "美国往事 / Once Upon a Time in America\n",
      "狮子王 / The Lion King\n",
      "素媛 / 소원\n",
      "钢琴家 / The Pianist\n",
      "小鞋子 / بچههای آسمان\n",
      "七宗罪 / Se7en\n",
      "天使爱美丽 / Le fabuleux destin d'Amélie Poulain\n",
      "被嫌弃的松子的一生 / 嫌われ松子の一生\n",
      "致命魔术 / The Prestige\n",
      "本杰明·巴顿奇事 / The Curious Case of Benjamin Button\n",
      "音乐之声 / The Sound of Music\n",
      "西西里的美丽传说 / Malèna\n",
      "勇敢的心 / Braveheart\n",
      "拯救大兵瑞恩 / Saving Private Ryan\n",
      "黑客帝国 / The Matrix\n",
      "低俗小说 / Pulp Fiction\n",
      "让子弹飞\n",
      "剪刀手爱德华 / Edward Scissorhands\n",
      "看不见的客人 / Contratiempo\n",
      "沉默的羔羊 / The Silence of the Lambs\n",
      "蝴蝶效应 / The Butterfly Effect\n",
      "入殓师 / おくりびと\n",
      "大闹天宫\n",
      "春光乍泄 / 春光乍洩\n",
      "末代皇帝 / The Last Emperor\n",
      "心灵捕手 / Good Will Hunting\n",
      "玛丽和马克思 / Mary and Max\n",
      "阳光灿烂的日子\n",
      "哈利·波特与魔法石 / Harry Potter and the Sorcerer's Stone\n",
      "布达佩斯大饭店 / The Grand Budapest Hotel\n",
      "幽灵公主 / もののけ姫\n",
      "第六感 / The Sixth Sense\n",
      "禁闭岛 / Shutter Island\n",
      "重庆森林 / 重慶森林\n",
      "猫鼠游戏 / Catch Me If You Can\n",
      "狩猎 / Jagten\n",
      "致命ID / Identity\n",
      "断背山 / Brokeback Mountain\n",
      "大鱼 / Big Fish\n",
      "甜蜜蜜\n",
      "射雕英雄传之东成西就 / 射鵰英雄傳之東成西就\n",
      "加勒比海盗 / Pirates of the Caribbean: The Curse of the Black Pearl\n",
      "穿条纹睡衣的男孩 / The Boy in the Striped Pajamas\n",
      "告白\n",
      "一一\n",
      "阳光姐妹淘 / 써니\n"
     ]
    }
   ],
   "source": [
    "from pyquery import PyQuery as pq\n",
    "import requests\n",
    "\n",
    "headers = {\n",
    "    \"User-Agent\":\n",
    "    \"Mozilla/5.0 (Windows NT 10.0; Win64; x64) AppleWebKit/537.36 (KHTML, like Gecko) Chrome/68.0.3440.84 Safari/537.36\",\n",
    "}\n",
    "\n",
    "url = \"https://movie.douban.com/top250\"\n",
    "\n",
    "\n",
    "def urlw(indext):\n",
    "    return f'https://movie.douban.com/top250?start={str(indext)}'\n",
    "\n",
    "\n",
    "for i in range(1, 100, 25):\n",
    "    html = requests.get(urlw(i), headers=headers)\n",
    "    do = pq(html.text)\n",
    "    aa = do(\".grid_view .item\").items()\n",
    "    for i in aa:\n",
    "        print(i(\".title\").text())"
   ]
  },
  {
   "cell_type": "code",
   "execution_count": null,
   "metadata": {},
   "outputs": [],
   "source": []
  }
 ],
 "metadata": {
  "kernelspec": {
   "display_name": "Python 3",
   "language": "python",
   "name": "python3"
  },
  "language_info": {
   "codemirror_mode": {
    "name": "ipython",
    "version": 3
   },
   "file_extension": ".py",
   "mimetype": "text/x-python",
   "name": "python",
   "nbconvert_exporter": "python",
   "pygments_lexer": "ipython3",
   "version": "3.6.5"
  },
  "toc": {
   "base_numbering": 1,
   "nav_menu": {},
   "number_sections": true,
   "sideBar": true,
   "skip_h1_title": false,
   "title_cell": "Table of Contents",
   "title_sidebar": "Contents",
   "toc_cell": false,
   "toc_position": {},
   "toc_section_display": true,
   "toc_window_display": false
  }
 },
 "nbformat": 4,
 "nbformat_minor": 2
}
