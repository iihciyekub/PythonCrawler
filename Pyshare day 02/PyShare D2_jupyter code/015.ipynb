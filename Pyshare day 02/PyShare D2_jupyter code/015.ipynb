{
 "cells": [
  {
   "cell_type": "markdown",
   "metadata": {},
   "source": [
    "- 使用封装优化代码"
   ]
  },
  {
   "cell_type": "code",
   "execution_count": null,
   "metadata": {},
   "outputs": [],
   "source": [
    "class typea():\n",
    "    def __init__(self, name):\n",
    "        self.name = name\n",
    "\n",
    "    def open(self):\n",
    "        print(f\"打开{self.name}\")\n",
    "        print('去掉广告')\n",
    "\n",
    "    def search(self, keyword):\n",
    "        print(f'输入关键词{keyword},开始检索')\n",
    "\n",
    "    def get_result(self):\n",
    "        print('收集所有资讯')\n",
    "        print('下载资讯')\n",
    "\n",
    "    def letdo(self, keyword):\n",
    "        self.open()\n",
    "        self.search(keyword)\n",
    "        self.get_result()\n",
    "\n",
    "\n",
    "a = typea(\"百度\")\n",
    "a.letdo(\"pythonn\")"
   ]
  },
  {
   "cell_type": "markdown",
   "metadata": {},
   "source": [
    "- 使用继承让代码有更好的扩展性"
   ]
  },
  {
   "cell_type": "code",
   "execution_count": null,
   "metadata": {},
   "outputs": [],
   "source": [
    "class typea():\n",
    "    def __init__(self, name):\n",
    "        self.name = name\n",
    "\n",
    "    def open(self):\n",
    "        print(f\"打开{self.name}\")\n",
    "        print('去掉广告')\n",
    "\n",
    "    def search(self, keyword):\n",
    "        print(f'输入关键词{keyword},开始检索')\n",
    "\n",
    "    def get_result(self):\n",
    "        print('收集所有资讯')\n",
    "        print('下载资讯')\n",
    "\n",
    "    def letdo(self, keyword):\n",
    "        self.open()\n",
    "        self.search(keyword)\n",
    "        self.get_result()\n",
    "\n",
    "\n",
    "class typeb(typea):\n",
    "    def get_result(self):\n",
    "        print('找到有用的资讯并分享')\n",
    "\n",
    "\n",
    "a = typea(\"百度\")\n",
    "b = typeb(\"谷歌\")\n",
    "a.letdo(\"pythonn\")\n",
    "print(\"--------------\")\n",
    "b.letdo(\"pythonn\")"
   ]
  },
  {
   "cell_type": "code",
   "execution_count": null,
   "metadata": {},
   "outputs": [],
   "source": [
    "class typea():\n",
    "    download_num = 0\n",
    "    share_num = 0\n",
    "\n",
    "    def __init__(self, name):\n",
    "        self.name = name\n",
    "\n",
    "    def open(self):\n",
    "        print(f\"打开{self.name}\")\n",
    "        print('去掉广告')\n",
    "\n",
    "    def search(self, keyword):\n",
    "        print(f'输入关键词{keyword},开始检索')\n",
    "\n",
    "    def get_result(self):\n",
    "        print('收集所有资讯')\n",
    "        print('下载资讯')\n",
    "        typea.download_num += 1\n",
    "\n",
    "    def letdo(self, keyword):\n",
    "        self.open()\n",
    "        self.search(keyword)\n",
    "        self.get_result()\n",
    "\n",
    "\n",
    "class typeb(typea):\n",
    "    def get_result(self):\n",
    "        print('找到有用的资讯并分享')\n",
    "        typea.share_num += 1\n",
    "\n",
    "\n",
    "a = typea(\"百度\")\n",
    "b = typeb(\"谷歌\")\n",
    "a.letdo(\"pythonn\")\n",
    "a.letdo(\"pythonn\")\n",
    "print(\"--------------\")\n",
    "b.letdo(\"pythonn\")\n",
    "b.letdo(\"pythonn\")\n",
    "b.letdo(\"pythonn\")\n",
    "print(\"--------------\")\n",
    "print(f\"下载了{typea.download_num}次, 分享了{typea.share_num}次\")"
   ]
  }
 ],
 "metadata": {
  "kernelspec": {
   "display_name": "Python 3",
   "language": "python",
   "name": "python3"
  },
  "language_info": {
   "codemirror_mode": {
    "name": "ipython",
    "version": 3
   },
   "file_extension": ".py",
   "mimetype": "text/x-python",
   "name": "python",
   "nbconvert_exporter": "python",
   "pygments_lexer": "ipython3",
   "version": "3.6.5"
  },
  "toc": {
   "base_numbering": 1,
   "nav_menu": {},
   "number_sections": true,
   "sideBar": true,
   "skip_h1_title": false,
   "title_cell": "Table of Contents",
   "title_sidebar": "Contents",
   "toc_cell": false,
   "toc_position": {},
   "toc_section_display": true,
   "toc_window_display": false
  }
 },
 "nbformat": 4,
 "nbformat_minor": 2
}
