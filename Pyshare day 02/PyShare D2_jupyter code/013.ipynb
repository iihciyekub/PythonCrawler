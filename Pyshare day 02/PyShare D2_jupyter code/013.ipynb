{
 "cells": [
  {
   "cell_type": "markdown",
   "metadata": {},
   "source": [
    "# seto 面向对象编程第一步"
   ]
  },
  {
   "cell_type": "code",
   "execution_count": null,
   "metadata": {},
   "outputs": [],
   "source": [
    "class bd():\n",
    "    def open(self):\n",
    "        print(\"打开百度\")\n",
    "\n",
    "    def search(self, keyword):\n",
    "        print(f'输入关键词{keyword},开始检索')\n",
    "\n",
    "    def get_result(self):\n",
    "        print('收集所有资讯')\n",
    "\n",
    "\n",
    "a = bd()\n",
    "a.open()\n",
    "a.search(\"python\")\n",
    "a.get_result()"
   ]
  },
  {
   "cell_type": "markdown",
   "metadata": {},
   "source": [
    "- 当需求有增加时"
   ]
  },
  {
   "cell_type": "code",
   "execution_count": null,
   "metadata": {},
   "outputs": [],
   "source": [
    "class bd():\n",
    "    def open(self):\n",
    "        print(\"打开百度\")\n",
    "        print('去掉广告')\n",
    "\n",
    "    def search(self, keyword):\n",
    "        print(f'输入关键词{keyword},开始检索')\n",
    "\n",
    "    def get_result(self):\n",
    "        print('收集所有资讯')\n",
    "        print('下载资讯')\n",
    "\n",
    "\n",
    "a = bd()\n",
    "a.open()\n",
    "a.search(\"python\")\n",
    "a.get_result()"
   ]
  },
  {
   "cell_type": "markdown",
   "metadata": {},
   "source": [
    "- 当需求有改变时"
   ]
  },
  {
   "cell_type": "code",
   "execution_count": 1,
   "metadata": {},
   "outputs": [
    {
     "name": "stdout",
     "output_type": "stream",
     "text": [
      "打开百度\n",
      "去掉广告\n",
      "输入关键词python,开始检索\n",
      "收集所有资讯\n",
      "下载资讯\n",
      "------\n",
      "打开百度\n",
      "去掉广告\n",
      "输入关键词JAVA,开始检索\n",
      "收集所有资讯\n",
      "下载资讯\n"
     ]
    }
   ],
   "source": [
    "class bd():\n",
    "    def open(self):\n",
    "        print(\"打开百度\")\n",
    "        print('去掉广告')\n",
    "\n",
    "    def search(self, keyword):\n",
    "        print(f'输入关键词{keyword},开始检索')\n",
    "\n",
    "    def get_result(self):\n",
    "        print('收集所有资讯')\n",
    "        print('下载资讯')\n",
    "\n",
    "\n",
    "a = bd()\n",
    "a.open()\n",
    "a.search(\"python\")\n",
    "a.get_result()\n",
    "print(\"------\")\n",
    "a.open()\n",
    "a.search(\"JAVA\")\n",
    "a.get_result()"
   ]
  }
 ],
 "metadata": {
  "kernelspec": {
   "display_name": "Python 3",
   "language": "python",
   "name": "python3"
  },
  "language_info": {
   "codemirror_mode": {
    "name": "ipython",
    "version": 3
   },
   "file_extension": ".py",
   "mimetype": "text/x-python",
   "name": "python",
   "nbconvert_exporter": "python",
   "pygments_lexer": "ipython3",
   "version": "3.6.5"
  },
  "toc": {
   "base_numbering": 1,
   "nav_menu": {},
   "number_sections": true,
   "sideBar": true,
   "skip_h1_title": false,
   "title_cell": "Table of Contents",
   "title_sidebar": "Contents",
   "toc_cell": false,
   "toc_position": {},
   "toc_section_display": true,
   "toc_window_display": false
  }
 },
 "nbformat": 4,
 "nbformat_minor": 2
}
