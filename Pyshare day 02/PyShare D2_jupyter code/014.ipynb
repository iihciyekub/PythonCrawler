{
 "cells": [
  {
   "cell_type": "markdown",
   "metadata": {},
   "source": [
    "# 封装"
   ]
  },
  {
   "cell_type": "code",
   "execution_count": null,
   "metadata": {},
   "outputs": [],
   "source": [
    "# 这是普通代码\n",
    "print('a')\n",
    "print('b')\n",
    "print('c')"
   ]
  },
  {
   "cell_type": "markdown",
   "metadata": {},
   "source": [
    "- 实现的行为时,代码暴露的外面,很容易写错,且扩展性差\n",
    "- 将其封装成一个方法时,起到保护与屏蔽复杂性的作用"
   ]
  },
  {
   "cell_type": "code",
   "execution_count": null,
   "metadata": {},
   "outputs": [],
   "source": [
    "def fun1():\n",
    "    print('a')\n",
    "\n",
    "def fun2():\n",
    "    print('b')\n",
    "\n",
    "def fun3():\n",
    "    print('c')\n",
    "\n",
    "# 调用方法\n",
    "fun1()\n",
    "fun2()\n",
    "fun3()"
   ]
  },
  {
   "cell_type": "markdown",
   "metadata": {},
   "source": [
    "- 除了普通代码可以封装成方法以后"
   ]
  },
  {
   "cell_type": "code",
   "execution_count": null,
   "metadata": {},
   "outputs": [],
   "source": [
    "class a:  # 多个方法也可以封装成类,比如...\n",
    "    def open(self):\n",
    "        print('a')\n",
    "\n",
    "    def putin(self):\n",
    "        print('b')\n",
    "\n",
    "    def close(self):\n",
    "        print('c')\n",
    "\n",
    "\n",
    "#需要调用方法时,需要先通过类a实例化出一个对象\n",
    "x = a()\n",
    "x.open()\n",
    "x.putin()\n",
    "x.close()\n"
   ]
  },
  {
   "cell_type": "markdown",
   "metadata": {},
   "source": [
    "- 封装就是把上面的行为组拼在一起变成一个方法"
   ]
  },
  {
   "cell_type": "markdown",
   "metadata": {},
   "source": [
    "# 继承"
   ]
  },
  {
   "cell_type": "markdown",
   "metadata": {},
   "source": [
    "- 实例化b类,得到对象x,(b类继承于a类,因此对象x会继承父类的行为特征"
   ]
  },
  {
   "cell_type": "code",
   "execution_count": null,
   "metadata": {},
   "outputs": [],
   "source": [
    "class a:\n",
    "    name = 'a类的静态字段:name'\n",
    "\n",
    "    def fun(self):\n",
    "        print('这是父类创建的方法:fun()')\n",
    "\n",
    "\n",
    "class b(a):\n",
    "    pass\n",
    "\n",
    "\n",
    "x = b()  # 实例化b类,得到对象x,(b类继承于a类,因此对象x会继承父类的行为特征\n",
    "print(x.name)  # 对象x调用类的静态字段\n",
    "x.fun()  # 对象x调用类的普通方法"
   ]
  },
  {
   "cell_type": "markdown",
   "metadata": {},
   "source": [
    "## 重写字段"
   ]
  },
  {
   "cell_type": "markdown",
   "metadata": {},
   "source": [
    "- 实例化b类,得到对象x,(b类继承于a类,因此对象x会继承父类的行为特征"
   ]
  },
  {
   "cell_type": "code",
   "execution_count": null,
   "metadata": {},
   "outputs": [],
   "source": [
    "class a:\n",
    "    name = 'a'\n",
    "\n",
    "\n",
    "class b(a):\n",
    "    name = 'b'\n",
    "\n",
    "\n",
    "x = b()  # 实例化b类,得到对象x,(b类继承于a类,因此对象x会继承父类的行为特征\n",
    "print(x.name)  # 对象x调用类的静态字段"
   ]
  },
  {
   "cell_type": "markdown",
   "metadata": {},
   "source": [
    "## 重写方法"
   ]
  },
  {
   "cell_type": "markdown",
   "metadata": {},
   "source": [
    "- 实例化b类,得到对象x,(b类继承于a类,因此对象x会继承父类的行为特征"
   ]
  },
  {
   "cell_type": "code",
   "execution_count": null,
   "metadata": {},
   "outputs": [],
   "source": [
    "class a:\n",
    "    def fun(self):\n",
    "        print('a')\n",
    "\n",
    "\n",
    "class b(a):\n",
    "    def fun(self):\n",
    "        print('b')  # 重写父类的普通方法\n",
    "\n",
    "\n",
    "x = b()  # 实例化b类,得到对象x,(b类继承于a类,因此对象x会继承父类的行为特征\n",
    "x.fun()  # 对象x调用类的静态字段"
   ]
  },
  {
   "cell_type": "markdown",
   "metadata": {},
   "source": [
    "## 子类访问父类字段"
   ]
  },
  {
   "cell_type": "markdown",
   "metadata": {},
   "source": [
    "- 实例化b类,得到对象x,(b类继承于a类,因此对象x会继承父类的行为特征"
   ]
  },
  {
   "cell_type": "code",
   "execution_count": null,
   "metadata": {},
   "outputs": [],
   "source": [
    "class a:\n",
    "    name = 'a'\n",
    "\n",
    "\n",
    "class b(a):\n",
    "    name = 'b'\n",
    "\n",
    "    def fun(self):  # 访问父类的字段成员值,不能修改写入\n",
    "        str1 = super(b, self).name\n",
    "        print(str1)\n",
    "\n",
    "\n",
    "a = b()\n",
    "a.fun()"
   ]
  },
  {
   "cell_type": "markdown",
   "metadata": {},
   "source": [
    "## super()调用父类方法"
   ]
  },
  {
   "cell_type": "markdown",
   "metadata": {},
   "source": [
    "- 使用父类名调用"
   ]
  },
  {
   "cell_type": "code",
   "execution_count": null,
   "metadata": {},
   "outputs": [],
   "source": [
    "# 父类名.父类方法名(self)\n",
    "class x:\n",
    "    def fun(self):\n",
    "        print('x')\n",
    "\n",
    "\n",
    "class y(x):\n",
    "    def fun(self):  # 在父类方法的基础上进行内容扩展\n",
    "        x.fun(self)  # 每次都要写父类的名字,兼容性差,\n",
    "\n",
    "\n",
    "z = y()\n",
    "z.fun()"
   ]
  },
  {
   "cell_type": "markdown",
   "metadata": {},
   "source": [
    "- 使用super()带参数的方法调用"
   ]
  },
  {
   "cell_type": "code",
   "execution_count": null,
   "metadata": {},
   "outputs": [],
   "source": [
    "# super()方法调用父类方法 super(子类名, self).父类方法名()\n",
    "class a:\n",
    "    def fun(self):\n",
    "        print('a')\n",
    "\n",
    "\n",
    "class b(a):\n",
    "    def fun(self):  # 在父类方法的基础上进行内容扩展\n",
    "        super(b, self).fun()  # 使用super()方法,只需写类名就行\n",
    "\n",
    "\n",
    "a = b()\n",
    "a.fun()"
   ]
  },
  {
   "cell_type": "markdown",
   "metadata": {},
   "source": [
    "- 使用super()的简洁写法调用"
   ]
  },
  {
   "cell_type": "code",
   "execution_count": null,
   "metadata": {},
   "outputs": [],
   "source": [
    "# super()方法调用父类方法 super().父类方法名()\n",
    "class c:\n",
    "    def fun(self):\n",
    "        print('c')\n",
    "\n",
    "\n",
    "class d(c):\n",
    "    def fun(self):  # 在父类方法的基础上进行内容扩展\n",
    "        super().fun()  # 使用super()方法\n",
    "\n",
    "\n",
    "w = d()\n",
    "w.fun()"
   ]
  },
  {
   "cell_type": "markdown",
   "metadata": {},
   "source": [
    "# 构造函数\n",
    "\n",
    "-  构造函数就是在实例化对象,会第一时间执行的函数\n",
    "- 函数名是 __init__()\n",
    "-  __init__是python提供的函数名\n",
    "- __init__是构造函数(类实例对象时,会第一时间执行的函数)"
   ]
  },
  {
   "cell_type": "code",
   "execution_count": 2,
   "metadata": {},
   "outputs": [
    {
     "name": "stdout",
     "output_type": "stream",
     "text": [
      "你创建了一个对象\n"
     ]
    }
   ],
   "source": [
    "class a:\n",
    "\n",
    "    def __init__(self):\n",
    "        print('你创建了一个对象')\n",
    "\n",
    "\n",
    "'用类a实例化出对象x'\n",
    "x = a()"
   ]
  }
 ],
 "metadata": {
  "kernelspec": {
   "display_name": "Python 3",
   "language": "python",
   "name": "python3"
  },
  "language_info": {
   "codemirror_mode": {
    "name": "ipython",
    "version": 3
   },
   "file_extension": ".py",
   "mimetype": "text/x-python",
   "name": "python",
   "nbconvert_exporter": "python",
   "pygments_lexer": "ipython3",
   "version": "3.6.5"
  },
  "toc": {
   "base_numbering": 1,
   "nav_menu": {},
   "number_sections": true,
   "sideBar": true,
   "skip_h1_title": false,
   "title_cell": "Table of Contents",
   "title_sidebar": "Contents",
   "toc_cell": false,
   "toc_position": {},
   "toc_section_display": true,
   "toc_window_display": true
  }
 },
 "nbformat": 4,
 "nbformat_minor": 2
}
