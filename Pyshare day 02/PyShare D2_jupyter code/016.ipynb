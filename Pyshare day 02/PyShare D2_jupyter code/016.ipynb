{
 "cells": [
  {
   "cell_type": "markdown",
   "metadata": {},
   "source": [
    "- 公有属性(可见)"
   ]
  },
  {
   "cell_type": "code",
   "execution_count": null,
   "metadata": {},
   "outputs": [],
   "source": [
    "class a:\n",
    "\n",
    "    name = 'w'  # 私有字段\n",
    "\n",
    "    def fun(self):\n",
    "        print('这是私有方法')\n",
    "\n",
    "\n",
    "x = a()\n",
    "print(a.__dict__)\n",
    "\n",
    "x.fun()  # 这是非法访问内部私有字段方法的机制\n",
    "print(x.name)  # 这是非法访问内部私有字段方法的机制"
   ]
  },
  {
   "cell_type": "markdown",
   "metadata": {},
   "source": [
    "- 私有属性(不可见)"
   ]
  },
  {
   "cell_type": "code",
   "execution_count": null,
   "metadata": {},
   "outputs": [],
   "source": [
    "class a:\n",
    "\n",
    "    __name = 'w'  # 私有字段\n",
    "\n",
    "    def __fun(self):\n",
    "        print('这是私有方法')\n",
    "\n",
    "\n",
    "x = a()\n",
    "print(a.__dict__)\n",
    "\n",
    "'''\n",
    "x._a__fun()  # 这是非法访问内部私有字段方法的机制\n",
    "print(x._a__name)  # 这是非法访问内部私有字段方法的机制\n",
    "'''"
   ]
  },
  {
   "cell_type": "markdown",
   "metadata": {},
   "source": [
    "- 实例对象访问类字段"
   ]
  },
  {
   "cell_type": "code",
   "execution_count": null,
   "metadata": {},
   "outputs": [],
   "source": [
    "class a:\n",
    "    name = 'a'\n",
    "\n",
    "\n",
    "x = a()  # 实例化b类,得到对象x,对象x具备a类的行为特征\n",
    "x.name = 'b'  # 这访问的是实例对象的字段成员\n",
    "x.__class__.name = 'e'  # 这对象x调用类字段,并修改类的字段值\n",
    "print(x.name, a.name)"
   ]
  },
  {
   "cell_type": "markdown",
   "metadata": {},
   "source": [
    "- 类成员_类方法"
   ]
  },
  {
   "cell_type": "code",
   "execution_count": null,
   "metadata": {},
   "outputs": [],
   "source": [
    "class a:\n",
    "    num = 0  #必须创建一个类的静态字段\n",
    "\n",
    "    def __init__(self):\n",
    "        self.num = 0  # 初始化字段值为0\n",
    "        self.addnum()  # 创建对象时执行类方法,让类字段自增1\n",
    "\n",
    "    @classmethod\n",
    "    def addnum(cls):\n",
    "        cls.num += 1\n",
    "\n",
    "\n",
    "x = a()\n",
    "x1 = a()\n",
    "x2 = a()\n",
    "x3 = a()\n",
    "x4 = a()\n",
    "print(x.num, a.num)  # 通过类名访问类字段\n",
    "print(x.num, x.__class__.num)  # 通过对象.__class__.字段, 进行访问"
   ]
  },
  {
   "cell_type": "markdown",
   "metadata": {},
   "source": [
    "- 类特性-读写属性设置"
   ]
  },
  {
   "cell_type": "code",
   "execution_count": 3,
   "metadata": {},
   "outputs": [
    {
     "name": "stdout",
     "output_type": "stream",
     "text": [
      "3\n"
     ]
    }
   ],
   "source": [
    "class a():\n",
    "    _name = 'name'  # 这是类的成员:类变量(也叫静态字段)\n",
    "\n",
    "    @property  # 类特性:字段值get\n",
    "    def name(self):\n",
    "        return self._name\n",
    "\n",
    "    @name.setter  # 类特性:字段值set(当不实现这个方法时,字段只有get特性)\n",
    "    def name(self, name):\n",
    "        self._name = name\n",
    "\n",
    "    @name.deleter  # 类特性:字段值del(可以不实现)\n",
    "    def name(self):\n",
    "        del (self._name)\n",
    "\n",
    "\n",
    "x = a()\n",
    "x.name = '3'\n",
    "print(x.name)"
   ]
  },
  {
   "cell_type": "markdown",
   "metadata": {},
   "source": [
    "- 实现只可读属性"
   ]
  },
  {
   "cell_type": "code",
   "execution_count": null,
   "metadata": {},
   "outputs": [],
   "source": [
    "class a():\n",
    "\n",
    "    _name = 'name'  # 这是类的成员:类变量(也叫静态字段)\n",
    "\n",
    "    @property  # 类特性:字段值get\n",
    "    def name(self):\n",
    "        return self._name\n",
    "    \n",
    "    @name.deleter  # 类特性:字段值del(可以不实现)\n",
    "    def name(self, name):\n",
    "        del (self._name)\n",
    "\n",
    "\n",
    "x = a()\n",
    "x.name=\"333333[[[[[[[[[[[[3\"\n",
    "print(x.name)"
   ]
  },
  {
   "cell_type": "markdown",
   "metadata": {},
   "source": [
    "- 装饰器的另外一种用法"
   ]
  },
  {
   "cell_type": "code",
   "execution_count": null,
   "metadata": {},
   "outputs": [],
   "source": [
    "def df(fuu):  #相当于重写或增加一些新内容到另一个函数中\n",
    "    def dg(*arg, **kwar):\n",
    "        print('增加了一些东西进来')\n",
    "        fuu(*arg, **kwar)\n",
    "\n",
    "    return dg\n",
    "\n",
    "\n",
    "@df\n",
    "def fun():\n",
    "    print('')\n",
    "\n",
    "\n",
    "@df\n",
    "def fun2(x):\n",
    "    print(x)\n",
    "\n",
    "\n",
    "@df\n",
    "def fun3(x):\n",
    "    print(x)\n",
    "\n",
    "\n",
    "fun()"
   ]
  },
  {
   "cell_type": "markdown",
   "metadata": {},
   "source": [
    "- 类实例方法中的装饰器使用"
   ]
  },
  {
   "cell_type": "code",
   "execution_count": null,
   "metadata": {},
   "outputs": [],
   "source": [
    "def cor(fu):\n",
    "    def df(self, *arg, **kwar):\n",
    "        print('你把这个函数给重写了')\n",
    "        fu(self, *arg, **kwar)\n",
    "\n",
    "    return df\n",
    "\n",
    "\n",
    "class base():\n",
    "    @cor\n",
    "    def fun1(self):\n",
    "        print('这是类实例方法')\n",
    "\n",
    "    @cor\n",
    "    def fun2(self, num):\n",
    "        print(f'这是类实例方法{num}')\n",
    "\n",
    "\n",
    "x = base()\n",
    "x.fun1()\n",
    "x.fun2(2)"
   ]
  }
 ],
 "metadata": {
  "kernelspec": {
   "display_name": "Python 3",
   "language": "python",
   "name": "python3"
  },
  "language_info": {
   "codemirror_mode": {
    "name": "ipython",
    "version": 3
   },
   "file_extension": ".py",
   "mimetype": "text/x-python",
   "name": "python",
   "nbconvert_exporter": "python",
   "pygments_lexer": "ipython3",
   "version": "3.6.5"
  },
  "toc": {
   "base_numbering": 1,
   "nav_menu": {},
   "number_sections": true,
   "sideBar": true,
   "skip_h1_title": false,
   "title_cell": "Table of Contents",
   "title_sidebar": "Contents",
   "toc_cell": false,
   "toc_position": {},
   "toc_section_display": true,
   "toc_window_display": false
  }
 },
 "nbformat": 4,
 "nbformat_minor": 2
}
