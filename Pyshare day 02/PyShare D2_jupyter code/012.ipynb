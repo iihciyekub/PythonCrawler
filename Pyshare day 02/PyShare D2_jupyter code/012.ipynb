{
 "cells": [
  {
   "cell_type": "markdown",
   "metadata": {},
   "source": [
    "# 面向过程的编程思想"
   ]
  },
  {
   "cell_type": "code",
   "execution_count": null,
   "metadata": {},
   "outputs": [],
   "source": [
    "print('打开百度')\n",
    "print('输入关键词python,开始检索')\n",
    "print('收集所有资讯')"
   ]
  },
  {
   "cell_type": "markdown",
   "metadata": {},
   "source": [
    "- 需求增加了或改变时,面向过程编程往往会出现许多问题"
   ]
  },
  {
   "cell_type": "code",
   "execution_count": null,
   "metadata": {},
   "outputs": [],
   "source": [
    "print('打开百度')\n",
    "print('去掉广告')\n",
    "print('输入关键词python,开始检索')\n",
    "print('收集所有资讯')\n",
    "print('按热度排序并打印资讯')"
   ]
  },
  {
   "cell_type": "markdown",
   "metadata": {},
   "source": [
    "- 需求变成检索时JAVA时,又要重写代码了,且不方便维护"
   ]
  },
  {
   "cell_type": "code",
   "execution_count": null,
   "metadata": {},
   "outputs": [],
   "source": [
    "print('打开百度')\n",
    "print('去掉广告')\n",
    "print('输入关键词JAVA,开始检索')\n",
    "print('收集所有资讯')\n",
    "print('按热度排序并打印资讯')"
   ]
  },
  {
   "cell_type": "markdown",
   "metadata": {},
   "source": [
    "# 面向对象编程"
   ]
  },
  {
   "cell_type": "markdown",
   "metadata": {},
   "source": [
    "## 类和对象,静态字段,动态字段,普通方法"
   ]
  },
  {
   "cell_type": "markdown",
   "metadata": {},
   "source": [
    "- 什么是类"
   ]
  },
  {
   "cell_type": "code",
   "execution_count": null,
   "metadata": {},
   "outputs": [],
   "source": [
    "class a:  #创建一个类,关键词是class\n",
    "    pass"
   ]
  },
  {
   "cell_type": "code",
   "execution_count": null,
   "metadata": {},
   "outputs": [],
   "source": [
    "class a():  #创建一个类,带括号关键词是class\n",
    "    pass"
   ]
  },
  {
   "cell_type": "markdown",
   "metadata": {},
   "source": [
    "- 什么是对象"
   ]
  },
  {
   "cell_type": "code",
   "execution_count": null,
   "metadata": {},
   "outputs": [],
   "source": [
    "obj = a()  #obj就是类的实例化对象"
   ]
  },
  {
   "cell_type": "markdown",
   "metadata": {},
   "source": [
    "- 类成员 静态字段"
   ]
  },
  {
   "cell_type": "code",
   "execution_count": null,
   "metadata": {},
   "outputs": [],
   "source": [
    "class a:  #类可以拥有成员 静态字段\n",
    "    x = 1\n",
    "    y = 2\n",
    "\n",
    "\n",
    "print(a.__dict__)  #通过a.__dict__字段,获取类下的全部成员"
   ]
  },
  {
   "cell_type": "markdown",
   "metadata": {},
   "source": [
    "- 类成员 普通方法"
   ]
  },
  {
   "cell_type": "code",
   "execution_count": null,
   "metadata": {},
   "outputs": [],
   "source": [
    "class a:  #类可以拥有成员:实例方法\n",
    "    def fun(self):\n",
    "        print('a类的方法')\n",
    "\n",
    "\n",
    "print(a.__dict__)"
   ]
  },
  {
   "cell_type": "markdown",
   "metadata": {},
   "source": [
    "- 类只能访问字段,不能调用实例方法(关于类方法,往后章节再谈)\n",
    "- 实例化的对象可以访问字段,可以调用普通方法"
   ]
  },
  {
   "cell_type": "code",
   "execution_count": 2,
   "metadata": {},
   "outputs": [],
   "source": [
    "class a:  #类可以拥有成员 静态字段,实例方法\n",
    "    x = 1\n",
    "    y = 2\n",
    "\n",
    "    def fun(self):\n",
    "        print('a类的方法')"
   ]
  },
  {
   "cell_type": "code",
   "execution_count": null,
   "metadata": {},
   "outputs": [],
   "source": [
    "print(a.x)\n",
    "a.fun()  # 类是不可以访问实例方法的"
   ]
  },
  {
   "cell_type": "code",
   "execution_count": null,
   "metadata": {},
   "outputs": [],
   "source": [
    "obj = a()\n",
    "print(obj.x)\n",
    "obj.fun()"
   ]
  },
  {
   "cell_type": "markdown",
   "metadata": {},
   "source": [
    "## python特性,可以动态添加字段"
   ]
  },
  {
   "cell_type": "code",
   "execution_count": null,
   "metadata": {},
   "outputs": [],
   "source": [
    "class a:  #类可以拥有成员 静态字段\n",
    "    x = 1\n",
    "    y = 2\n",
    "\n",
    "\n",
    "a.z = 3  #用类访问新添加的字段,并打印类的成员\n",
    "print(a.__dict__)  #通过a.__dict__字段,获取类下的全部成员"
   ]
  }
 ],
 "metadata": {
  "kernelspec": {
   "display_name": "Python 3",
   "language": "python",
   "name": "python3"
  },
  "language_info": {
   "codemirror_mode": {
    "name": "ipython",
    "version": 3
   },
   "file_extension": ".py",
   "mimetype": "text/x-python",
   "name": "python",
   "nbconvert_exporter": "python",
   "pygments_lexer": "ipython3",
   "version": "3.6.5"
  },
  "toc": {
   "base_numbering": 1,
   "nav_menu": {},
   "number_sections": true,
   "sideBar": true,
   "skip_h1_title": false,
   "title_cell": "Table of Contents",
   "title_sidebar": "Contents",
   "toc_cell": false,
   "toc_position": {},
   "toc_section_display": true,
   "toc_window_display": false
  }
 },
 "nbformat": 4,
 "nbformat_minor": 2
}
